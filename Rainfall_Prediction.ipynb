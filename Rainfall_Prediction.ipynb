{
  "metadata": {
    "kernelspec": {
      "language": "python",
      "display_name": "Python 3",
      "name": "python3"
    },
    "language_info": {
      "name": "python",
      "version": "3.7.12",
      "mimetype": "text/x-python",
      "codemirror_mode": {
        "name": "ipython",
        "version": 3
      },
      "pygments_lexer": "ipython3",
      "nbconvert_exporter": "python",
      "file_extension": ".py"
    },
    "colab": {
      "name": "Rainfall Prediction",
      "provenance": [],
      "collapsed_sections": [
        "mlFy_IxqRUru",
        "aRxIE9M_ntJM",
        "Sw7l-CDF4-gX",
        "1JOcQdWC3EWe",
        "7huFtmWZ55M_",
        "w7wiNHAYwtpk",
        "dRmMUBT4xXyU"
      ]
    }
  },
  "nbformat_minor": 0,
  "nbformat": 4,
  "cells": [
    {
      "cell_type": "markdown",
      "source": [
        "# **PROBLEM STATEMENT**\n",
        "\n",
        "In this kernel, we will try to answer the question that whether or not it will rain tomorrow in Australia. We implement Logistic Regression with Python and Scikit-Learn.\n",
        "\n",
        "To answer the question, we build a classifier to predict whether or not it will rain tomorrow in Australia. We train a binary classification model using Logistic Regression. I have used the Rain in Australia dataset for this project.\n",
        "\n",
        "So, let's get started."
      ],
      "metadata": {
        "id": "OaaZQ-wyQ2nf"
      }
    },
    {
      "cell_type": "markdown",
      "source": [
        "###**Importing the neccessary libraries**\n",
        "\n"
      ],
      "metadata": {
        "id": "mlFy_IxqRUru"
      }
    },
    {
      "cell_type": "code",
      "source": [
        "import numpy as np \n",
        "import pandas as pd \n",
        "import matplotlib.pyplot as plt\n",
        "import warnings\n",
        "warnings.filterwarnings('ignore')"
      ],
      "metadata": {
        "_uuid": "8f2839f25d086af736a60e9eeb907d3b93b6e0e5",
        "_cell_guid": "b1076dfc-b9ad-4769-8c92-a6c4dae69d19",
        "execution": {
          "iopub.status.busy": "2022-06-17T12:24:22.497302Z",
          "iopub.execute_input": "2022-06-17T12:24:22.497770Z",
          "iopub.status.idle": "2022-06-17T12:24:22.531470Z",
          "shell.execute_reply.started": "2022-06-17T12:24:22.497679Z",
          "shell.execute_reply": "2022-06-17T12:24:22.530559Z"
        },
        "trusted": true,
        "id": "Dj_4MWTJQgSs"
      },
      "execution_count": null,
      "outputs": []
    },
    {
      "cell_type": "markdown",
      "source": [
        "###**Loading the dataset**"
      ],
      "metadata": {
        "id": "wtUCHOG0S_L7"
      }
    },
    {
      "cell_type": "code",
      "source": [
        "rainfall = pd.read_csv('weatherAUS.csv')\n",
        "rainfall.head(n=2)"
      ],
      "metadata": {
        "execution": {
          "iopub.status.busy": "2022-06-17T12:24:24.573191Z",
          "iopub.execute_input": "2022-06-17T12:24:24.574021Z",
          "iopub.status.idle": "2022-06-17T12:24:25.313827Z",
          "shell.execute_reply.started": "2022-06-17T12:24:24.573974Z",
          "shell.execute_reply": "2022-06-17T12:24:25.313012Z"
        },
        "trusted": true,
        "colab": {
          "base_uri": "https://localhost:8080/",
          "height": 240
        },
        "id": "WY6t_9IcQgSv",
        "outputId": "4f47e20e-bca2-4eb4-92eb-00faa70d759d"
      },
      "execution_count": null,
      "outputs": [
        {
          "output_type": "execute_result",
          "data": {
            "text/plain": [
              "         Date Location  MinTemp  MaxTemp  Rainfall  Evaporation  Sunshine  \\\n",
              "0  2008-12-01   Albury     13.4     22.9       0.6          NaN       NaN   \n",
              "1  2008-12-02   Albury      7.4     25.1       0.0          NaN       NaN   \n",
              "\n",
              "  WindGustDir  WindGustSpeed WindDir9am  ... Humidity9am  Humidity3pm  \\\n",
              "0           W           44.0          W  ...        71.0         22.0   \n",
              "1         WNW           44.0        NNW  ...        44.0         25.0   \n",
              "\n",
              "   Pressure9am  Pressure3pm  Cloud9am  Cloud3pm  Temp9am  Temp3pm  RainToday  \\\n",
              "0       1007.7       1007.1       8.0       NaN     16.9     21.8         No   \n",
              "1       1010.6       1007.8       NaN       NaN     17.2     24.3         No   \n",
              "\n",
              "   RainTomorrow  \n",
              "0            No  \n",
              "1            No  \n",
              "\n",
              "[2 rows x 23 columns]"
            ],
            "text/html": [
              "\n",
              "  <div id=\"df-15d970ee-5571-4687-aa42-f53df6878074\">\n",
              "    <div class=\"colab-df-container\">\n",
              "      <div>\n",
              "<style scoped>\n",
              "    .dataframe tbody tr th:only-of-type {\n",
              "        vertical-align: middle;\n",
              "    }\n",
              "\n",
              "    .dataframe tbody tr th {\n",
              "        vertical-align: top;\n",
              "    }\n",
              "\n",
              "    .dataframe thead th {\n",
              "        text-align: right;\n",
              "    }\n",
              "</style>\n",
              "<table border=\"1\" class=\"dataframe\">\n",
              "  <thead>\n",
              "    <tr style=\"text-align: right;\">\n",
              "      <th></th>\n",
              "      <th>Date</th>\n",
              "      <th>Location</th>\n",
              "      <th>MinTemp</th>\n",
              "      <th>MaxTemp</th>\n",
              "      <th>Rainfall</th>\n",
              "      <th>Evaporation</th>\n",
              "      <th>Sunshine</th>\n",
              "      <th>WindGustDir</th>\n",
              "      <th>WindGustSpeed</th>\n",
              "      <th>WindDir9am</th>\n",
              "      <th>...</th>\n",
              "      <th>Humidity9am</th>\n",
              "      <th>Humidity3pm</th>\n",
              "      <th>Pressure9am</th>\n",
              "      <th>Pressure3pm</th>\n",
              "      <th>Cloud9am</th>\n",
              "      <th>Cloud3pm</th>\n",
              "      <th>Temp9am</th>\n",
              "      <th>Temp3pm</th>\n",
              "      <th>RainToday</th>\n",
              "      <th>RainTomorrow</th>\n",
              "    </tr>\n",
              "  </thead>\n",
              "  <tbody>\n",
              "    <tr>\n",
              "      <th>0</th>\n",
              "      <td>2008-12-01</td>\n",
              "      <td>Albury</td>\n",
              "      <td>13.4</td>\n",
              "      <td>22.9</td>\n",
              "      <td>0.6</td>\n",
              "      <td>NaN</td>\n",
              "      <td>NaN</td>\n",
              "      <td>W</td>\n",
              "      <td>44.0</td>\n",
              "      <td>W</td>\n",
              "      <td>...</td>\n",
              "      <td>71.0</td>\n",
              "      <td>22.0</td>\n",
              "      <td>1007.7</td>\n",
              "      <td>1007.1</td>\n",
              "      <td>8.0</td>\n",
              "      <td>NaN</td>\n",
              "      <td>16.9</td>\n",
              "      <td>21.8</td>\n",
              "      <td>No</td>\n",
              "      <td>No</td>\n",
              "    </tr>\n",
              "    <tr>\n",
              "      <th>1</th>\n",
              "      <td>2008-12-02</td>\n",
              "      <td>Albury</td>\n",
              "      <td>7.4</td>\n",
              "      <td>25.1</td>\n",
              "      <td>0.0</td>\n",
              "      <td>NaN</td>\n",
              "      <td>NaN</td>\n",
              "      <td>WNW</td>\n",
              "      <td>44.0</td>\n",
              "      <td>NNW</td>\n",
              "      <td>...</td>\n",
              "      <td>44.0</td>\n",
              "      <td>25.0</td>\n",
              "      <td>1010.6</td>\n",
              "      <td>1007.8</td>\n",
              "      <td>NaN</td>\n",
              "      <td>NaN</td>\n",
              "      <td>17.2</td>\n",
              "      <td>24.3</td>\n",
              "      <td>No</td>\n",
              "      <td>No</td>\n",
              "    </tr>\n",
              "  </tbody>\n",
              "</table>\n",
              "<p>2 rows × 23 columns</p>\n",
              "</div>\n",
              "      <button class=\"colab-df-convert\" onclick=\"convertToInteractive('df-15d970ee-5571-4687-aa42-f53df6878074')\"\n",
              "              title=\"Convert this dataframe to an interactive table.\"\n",
              "              style=\"display:none;\">\n",
              "        \n",
              "  <svg xmlns=\"http://www.w3.org/2000/svg\" height=\"24px\"viewBox=\"0 0 24 24\"\n",
              "       width=\"24px\">\n",
              "    <path d=\"M0 0h24v24H0V0z\" fill=\"none\"/>\n",
              "    <path d=\"M18.56 5.44l.94 2.06.94-2.06 2.06-.94-2.06-.94-.94-2.06-.94 2.06-2.06.94zm-11 1L8.5 8.5l.94-2.06 2.06-.94-2.06-.94L8.5 2.5l-.94 2.06-2.06.94zm10 10l.94 2.06.94-2.06 2.06-.94-2.06-.94-.94-2.06-.94 2.06-2.06.94z\"/><path d=\"M17.41 7.96l-1.37-1.37c-.4-.4-.92-.59-1.43-.59-.52 0-1.04.2-1.43.59L10.3 9.45l-7.72 7.72c-.78.78-.78 2.05 0 2.83L4 21.41c.39.39.9.59 1.41.59.51 0 1.02-.2 1.41-.59l7.78-7.78 2.81-2.81c.8-.78.8-2.07 0-2.86zM5.41 20L4 18.59l7.72-7.72 1.47 1.35L5.41 20z\"/>\n",
              "  </svg>\n",
              "      </button>\n",
              "      \n",
              "  <style>\n",
              "    .colab-df-container {\n",
              "      display:flex;\n",
              "      flex-wrap:wrap;\n",
              "      gap: 12px;\n",
              "    }\n",
              "\n",
              "    .colab-df-convert {\n",
              "      background-color: #E8F0FE;\n",
              "      border: none;\n",
              "      border-radius: 50%;\n",
              "      cursor: pointer;\n",
              "      display: none;\n",
              "      fill: #1967D2;\n",
              "      height: 32px;\n",
              "      padding: 0 0 0 0;\n",
              "      width: 32px;\n",
              "    }\n",
              "\n",
              "    .colab-df-convert:hover {\n",
              "      background-color: #E2EBFA;\n",
              "      box-shadow: 0px 1px 2px rgba(60, 64, 67, 0.3), 0px 1px 3px 1px rgba(60, 64, 67, 0.15);\n",
              "      fill: #174EA6;\n",
              "    }\n",
              "\n",
              "    [theme=dark] .colab-df-convert {\n",
              "      background-color: #3B4455;\n",
              "      fill: #D2E3FC;\n",
              "    }\n",
              "\n",
              "    [theme=dark] .colab-df-convert:hover {\n",
              "      background-color: #434B5C;\n",
              "      box-shadow: 0px 1px 3px 1px rgba(0, 0, 0, 0.15);\n",
              "      filter: drop-shadow(0px 1px 2px rgba(0, 0, 0, 0.3));\n",
              "      fill: #FFFFFF;\n",
              "    }\n",
              "  </style>\n",
              "\n",
              "      <script>\n",
              "        const buttonEl =\n",
              "          document.querySelector('#df-15d970ee-5571-4687-aa42-f53df6878074 button.colab-df-convert');\n",
              "        buttonEl.style.display =\n",
              "          google.colab.kernel.accessAllowed ? 'block' : 'none';\n",
              "\n",
              "        async function convertToInteractive(key) {\n",
              "          const element = document.querySelector('#df-15d970ee-5571-4687-aa42-f53df6878074');\n",
              "          const dataTable =\n",
              "            await google.colab.kernel.invokeFunction('convertToInteractive',\n",
              "                                                     [key], {});\n",
              "          if (!dataTable) return;\n",
              "\n",
              "          const docLinkHtml = 'Like what you see? Visit the ' +\n",
              "            '<a target=\"_blank\" href=https://colab.research.google.com/notebooks/data_table.ipynb>data table notebook</a>'\n",
              "            + ' to learn more about interactive tables.';\n",
              "          element.innerHTML = '';\n",
              "          dataTable['output_type'] = 'display_data';\n",
              "          await google.colab.output.renderOutput(dataTable, element);\n",
              "          const docLink = document.createElement('div');\n",
              "          docLink.innerHTML = docLinkHtml;\n",
              "          element.appendChild(docLink);\n",
              "        }\n",
              "      </script>\n",
              "    </div>\n",
              "  </div>\n",
              "  "
            ]
          },
          "metadata": {},
          "execution_count": 6
        }
      ]
    },
    {
      "cell_type": "markdown",
      "source": [
        "###**Data Preperation**\n",
        "> Now we are going to fclean the dataset before modelling"
      ],
      "metadata": {
        "id": "XjI5zaJETMSR"
      }
    },
    {
      "cell_type": "code",
      "source": [
        "# Dimension of the dataest\n",
        "shape = rainfall.shape\n",
        "print(\"The number of instances and variables are = {}\".format(shape))"
      ],
      "metadata": {
        "execution": {
          "iopub.status.busy": "2022-06-17T12:24:25.493483Z",
          "iopub.execute_input": "2022-06-17T12:24:25.494086Z",
          "iopub.status.idle": "2022-06-17T12:24:25.500879Z",
          "shell.execute_reply.started": "2022-06-17T12:24:25.494039Z",
          "shell.execute_reply": "2022-06-17T12:24:25.499905Z"
        },
        "trusted": true,
        "colab": {
          "base_uri": "https://localhost:8080/"
        },
        "id": "k6fq8ajNQgSx",
        "outputId": "beb3042c-fa5e-4061-c6fc-0f132629541d"
      },
      "execution_count": null,
      "outputs": [
        {
          "output_type": "stream",
          "name": "stdout",
          "text": [
            "The number of instances and variables are = (10811, 23)\n"
          ]
        }
      ]
    },
    {
      "cell_type": "code",
      "source": [
        "# Columns of the dataset\n",
        "rainfall.columns"
      ],
      "metadata": {
        "colab": {
          "base_uri": "https://localhost:8080/"
        },
        "id": "z3tlwC3VUjrK",
        "outputId": "229550c4-814c-4d59-bcdb-deafa17e5874"
      },
      "execution_count": null,
      "outputs": [
        {
          "output_type": "execute_result",
          "data": {
            "text/plain": [
              "Index(['Date', 'Location', 'MinTemp', 'MaxTemp', 'Rainfall', 'Evaporation',\n",
              "       'Sunshine', 'WindGustDir', 'WindGustSpeed', 'WindDir9am', 'WindDir3pm',\n",
              "       'WindSpeed9am', 'WindSpeed3pm', 'Humidity9am', 'Humidity3pm',\n",
              "       'Pressure9am', 'Pressure3pm', 'Cloud9am', 'Cloud3pm', 'Temp9am',\n",
              "       'Temp3pm', 'RainToday', 'RainTomorrow'],\n",
              "      dtype='object')"
            ]
          },
          "metadata": {},
          "execution_count": 8
        }
      ]
    },
    {
      "cell_type": "code",
      "source": [
        "# Summary of the dataset\n",
        "rainfall.info()"
      ],
      "metadata": {
        "execution": {
          "iopub.status.busy": "2022-06-17T12:24:26.325802Z",
          "iopub.execute_input": "2022-06-17T12:24:26.326479Z",
          "iopub.status.idle": "2022-06-17T12:24:26.465860Z",
          "shell.execute_reply.started": "2022-06-17T12:24:26.326444Z",
          "shell.execute_reply": "2022-06-17T12:24:26.464727Z"
        },
        "trusted": true,
        "colab": {
          "base_uri": "https://localhost:8080/"
        },
        "id": "rf2SMk36QgSx",
        "outputId": "cc7fe922-c390-4245-b580-b9de7afc3d50"
      },
      "execution_count": null,
      "outputs": [
        {
          "output_type": "stream",
          "name": "stdout",
          "text": [
            "<class 'pandas.core.frame.DataFrame'>\n",
            "RangeIndex: 10811 entries, 0 to 10810\n",
            "Data columns (total 23 columns):\n",
            " #   Column         Non-Null Count  Dtype  \n",
            "---  ------         --------------  -----  \n",
            " 0   Date           10811 non-null  object \n",
            " 1   Location       10811 non-null  object \n",
            " 2   MinTemp        10757 non-null  float64\n",
            " 3   MaxTemp        10766 non-null  float64\n",
            " 4   Rainfall       10676 non-null  float64\n",
            " 5   Evaporation    4357 non-null   float64\n",
            " 6   Sunshine       2005 non-null   float64\n",
            " 7   WindGustDir    10624 non-null  object \n",
            " 8   WindGustSpeed  10624 non-null  float64\n",
            " 9   WindDir9am     9786 non-null   object \n",
            " 10  WindDir3pm     10657 non-null  object \n",
            " 11  WindSpeed9am   10730 non-null  float64\n",
            " 12  WindSpeed3pm   10734 non-null  float64\n",
            " 13  Humidity9am    10616 non-null  float64\n",
            " 14  Humidity3pm    10610 non-null  float64\n",
            " 15  Pressure9am    10599 non-null  float64\n",
            " 16  Pressure3pm    10595 non-null  float64\n",
            " 17  Cloud9am       5655 non-null   float64\n",
            " 18  Cloud3pm       5857 non-null   float64\n",
            " 19  Temp9am        10750 non-null  float64\n",
            " 20  Temp3pm        10747 non-null  float64\n",
            " 21  RainToday      10675 non-null  object \n",
            " 22  RainTomorrow   10675 non-null  object \n",
            "dtypes: float64(16), object(7)\n",
            "memory usage: 1.9+ MB\n"
          ]
        }
      ]
    },
    {
      "cell_type": "markdown",
      "source": [
        "**Observation**\n",
        "\n",
        "* We can see that we have both categorical and numerical dtype\n",
        "* Categorical dtype is **object**\n",
        "* Numerical dtype is **float**\n",
        "* We also observed that there are lots of missing values in this dataset\n",
        "\n",
        "**Conclusion on this observation**\n",
        "\n",
        "* Check the missing values in each columns and decide whether to fillna or dropna\n",
        " "
      ],
      "metadata": {
        "id": "5Cvt5bokVMh-"
      }
    },
    {
      "cell_type": "code",
      "source": [
        "#Check the total missing values in each columns\n",
        "null_value = rainfall.isnull().sum()\n",
        "percentage_missing = rainfall.isnull().sum()/rainfall.shape[0]*100\n",
        "\n",
        "values = {\n",
        "    'null value' : null_value,\n",
        "    'percentage missing' : percentage_missing,\n",
        "    'dtypes' : rainfall.dtypes\n",
        "}\n",
        "\n",
        "total = pd.DataFrame(values).sort_values(by='percentage missing', ascending=False)\n",
        "total.head(n=6)"
      ],
      "metadata": {
        "colab": {
          "base_uri": "https://localhost:8080/",
          "height": 237
        },
        "id": "thhnaD0ZWolG",
        "outputId": "e3bce528-3902-4d49-9a87-54f66d7019e3"
      },
      "execution_count": null,
      "outputs": [
        {
          "output_type": "execute_result",
          "data": {
            "text/plain": [
              "             null value  percentage missing   dtypes\n",
              "Sunshine           8806           81.454075  float64\n",
              "Evaporation        6454           59.698455  float64\n",
              "Cloud9am           5156           47.692165  float64\n",
              "Cloud3pm           4954           45.823698  float64\n",
              "WindDir9am         1025            9.481084   object\n",
              "Pressure3pm         216            1.997965  float64"
            ],
            "text/html": [
              "\n",
              "  <div id=\"df-9e632687-9a41-447b-9cd1-eb6193c6c228\">\n",
              "    <div class=\"colab-df-container\">\n",
              "      <div>\n",
              "<style scoped>\n",
              "    .dataframe tbody tr th:only-of-type {\n",
              "        vertical-align: middle;\n",
              "    }\n",
              "\n",
              "    .dataframe tbody tr th {\n",
              "        vertical-align: top;\n",
              "    }\n",
              "\n",
              "    .dataframe thead th {\n",
              "        text-align: right;\n",
              "    }\n",
              "</style>\n",
              "<table border=\"1\" class=\"dataframe\">\n",
              "  <thead>\n",
              "    <tr style=\"text-align: right;\">\n",
              "      <th></th>\n",
              "      <th>null value</th>\n",
              "      <th>percentage missing</th>\n",
              "      <th>dtypes</th>\n",
              "    </tr>\n",
              "  </thead>\n",
              "  <tbody>\n",
              "    <tr>\n",
              "      <th>Sunshine</th>\n",
              "      <td>8806</td>\n",
              "      <td>81.454075</td>\n",
              "      <td>float64</td>\n",
              "    </tr>\n",
              "    <tr>\n",
              "      <th>Evaporation</th>\n",
              "      <td>6454</td>\n",
              "      <td>59.698455</td>\n",
              "      <td>float64</td>\n",
              "    </tr>\n",
              "    <tr>\n",
              "      <th>Cloud9am</th>\n",
              "      <td>5156</td>\n",
              "      <td>47.692165</td>\n",
              "      <td>float64</td>\n",
              "    </tr>\n",
              "    <tr>\n",
              "      <th>Cloud3pm</th>\n",
              "      <td>4954</td>\n",
              "      <td>45.823698</td>\n",
              "      <td>float64</td>\n",
              "    </tr>\n",
              "    <tr>\n",
              "      <th>WindDir9am</th>\n",
              "      <td>1025</td>\n",
              "      <td>9.481084</td>\n",
              "      <td>object</td>\n",
              "    </tr>\n",
              "    <tr>\n",
              "      <th>Pressure3pm</th>\n",
              "      <td>216</td>\n",
              "      <td>1.997965</td>\n",
              "      <td>float64</td>\n",
              "    </tr>\n",
              "  </tbody>\n",
              "</table>\n",
              "</div>\n",
              "      <button class=\"colab-df-convert\" onclick=\"convertToInteractive('df-9e632687-9a41-447b-9cd1-eb6193c6c228')\"\n",
              "              title=\"Convert this dataframe to an interactive table.\"\n",
              "              style=\"display:none;\">\n",
              "        \n",
              "  <svg xmlns=\"http://www.w3.org/2000/svg\" height=\"24px\"viewBox=\"0 0 24 24\"\n",
              "       width=\"24px\">\n",
              "    <path d=\"M0 0h24v24H0V0z\" fill=\"none\"/>\n",
              "    <path d=\"M18.56 5.44l.94 2.06.94-2.06 2.06-.94-2.06-.94-.94-2.06-.94 2.06-2.06.94zm-11 1L8.5 8.5l.94-2.06 2.06-.94-2.06-.94L8.5 2.5l-.94 2.06-2.06.94zm10 10l.94 2.06.94-2.06 2.06-.94-2.06-.94-.94-2.06-.94 2.06-2.06.94z\"/><path d=\"M17.41 7.96l-1.37-1.37c-.4-.4-.92-.59-1.43-.59-.52 0-1.04.2-1.43.59L10.3 9.45l-7.72 7.72c-.78.78-.78 2.05 0 2.83L4 21.41c.39.39.9.59 1.41.59.51 0 1.02-.2 1.41-.59l7.78-7.78 2.81-2.81c.8-.78.8-2.07 0-2.86zM5.41 20L4 18.59l7.72-7.72 1.47 1.35L5.41 20z\"/>\n",
              "  </svg>\n",
              "      </button>\n",
              "      \n",
              "  <style>\n",
              "    .colab-df-container {\n",
              "      display:flex;\n",
              "      flex-wrap:wrap;\n",
              "      gap: 12px;\n",
              "    }\n",
              "\n",
              "    .colab-df-convert {\n",
              "      background-color: #E8F0FE;\n",
              "      border: none;\n",
              "      border-radius: 50%;\n",
              "      cursor: pointer;\n",
              "      display: none;\n",
              "      fill: #1967D2;\n",
              "      height: 32px;\n",
              "      padding: 0 0 0 0;\n",
              "      width: 32px;\n",
              "    }\n",
              "\n",
              "    .colab-df-convert:hover {\n",
              "      background-color: #E2EBFA;\n",
              "      box-shadow: 0px 1px 2px rgba(60, 64, 67, 0.3), 0px 1px 3px 1px rgba(60, 64, 67, 0.15);\n",
              "      fill: #174EA6;\n",
              "    }\n",
              "\n",
              "    [theme=dark] .colab-df-convert {\n",
              "      background-color: #3B4455;\n",
              "      fill: #D2E3FC;\n",
              "    }\n",
              "\n",
              "    [theme=dark] .colab-df-convert:hover {\n",
              "      background-color: #434B5C;\n",
              "      box-shadow: 0px 1px 3px 1px rgba(0, 0, 0, 0.15);\n",
              "      filter: drop-shadow(0px 1px 2px rgba(0, 0, 0, 0.3));\n",
              "      fill: #FFFFFF;\n",
              "    }\n",
              "  </style>\n",
              "\n",
              "      <script>\n",
              "        const buttonEl =\n",
              "          document.querySelector('#df-9e632687-9a41-447b-9cd1-eb6193c6c228 button.colab-df-convert');\n",
              "        buttonEl.style.display =\n",
              "          google.colab.kernel.accessAllowed ? 'block' : 'none';\n",
              "\n",
              "        async function convertToInteractive(key) {\n",
              "          const element = document.querySelector('#df-9e632687-9a41-447b-9cd1-eb6193c6c228');\n",
              "          const dataTable =\n",
              "            await google.colab.kernel.invokeFunction('convertToInteractive',\n",
              "                                                     [key], {});\n",
              "          if (!dataTable) return;\n",
              "\n",
              "          const docLinkHtml = 'Like what you see? Visit the ' +\n",
              "            '<a target=\"_blank\" href=https://colab.research.google.com/notebooks/data_table.ipynb>data table notebook</a>'\n",
              "            + ' to learn more about interactive tables.';\n",
              "          element.innerHTML = '';\n",
              "          dataTable['output_type'] = 'display_data';\n",
              "          await google.colab.output.renderOutput(dataTable, element);\n",
              "          const docLink = document.createElement('div');\n",
              "          docLink.innerHTML = docLinkHtml;\n",
              "          element.appendChild(docLink);\n",
              "        }\n",
              "      </script>\n",
              "    </div>\n",
              "  </div>\n",
              "  "
            ]
          },
          "metadata": {},
          "execution_count": 10
        }
      ]
    },
    {
      "cell_type": "code",
      "source": [
        "isnull = rainfall.isnull().values.sum()\n",
        "notnull = rainfall.notnull().values.sum()\n",
        "print(\"The total number of missing values in the dataset is {}\".format(isnull))\n",
        "print(\"The total number of non-missing values in the dataset is {}\".format(notnull))"
      ],
      "metadata": {
        "colab": {
          "base_uri": "https://localhost:8080/"
        },
        "id": "C1GANcTLb5H3",
        "outputId": "d38ad117-b7b3-4659-bd0b-078091c69f36"
      },
      "execution_count": null,
      "outputs": [
        {
          "output_type": "stream",
          "name": "stdout",
          "text": [
            "The total number of missing values in the dataset is 28536\n",
            "The total number of non-missing values in the dataset is 220117\n"
          ]
        }
      ]
    },
    {
      "cell_type": "markdown",
      "source": [
        "**Observation**\n",
        "\n",
        "Still in considering whether to use fillna() or dropna(), we have to consider:\n",
        "\n",
        "* Target Variables\n",
        "* Features Variables"
      ],
      "metadata": {
        "id": "6RnYgtsZeHaq"
      }
    },
    {
      "cell_type": "markdown",
      "source": [
        "#### **UNIVARIANTE ANALYSIS**"
      ],
      "metadata": {
        "id": "qOLu5gPEnId9"
      }
    },
    {
      "cell_type": "markdown",
      "source": [
        "**Target Variable**\n",
        "\n",
        "> Since we are making prediction for rainfall our target variable is **RainTomorrow**"
      ],
      "metadata": {
        "id": "QCh3t903ejrc"
      }
    },
    {
      "cell_type": "code",
      "source": [
        "isna = rainfall['RainTomorrow'].isna().sum()\n",
        "notnull = rainfall['RainTomorrow'].notnull().sum()\n",
        "print(\"The total number of missing values in the target variables is {}\".format(isna))\n",
        "print(\"The total number of non-missing values in the target variables is {}\".format(notnull))"
      ],
      "metadata": {
        "colab": {
          "base_uri": "https://localhost:8080/"
        },
        "id": "JKR3DFCpe_yw",
        "outputId": "43c18e4c-70f7-43b6-8423-c163080e1dcd"
      },
      "execution_count": null,
      "outputs": [
        {
          "output_type": "stream",
          "name": "stdout",
          "text": [
            "The total number of missing values in the target variables is 136\n",
            "The total number of non-missing values in the target variables is 10675\n"
          ]
        }
      ]
    },
    {
      "cell_type": "code",
      "source": [
        "rainfall['RainTomorrow'].replace({'No': 0, 'Yes': 1}, inplace = True)"
      ],
      "metadata": {
        "execution": {
          "iopub.status.busy": "2022-06-17T12:24:27.433717Z",
          "iopub.execute_input": "2022-06-17T12:24:27.434093Z",
          "iopub.status.idle": "2022-06-17T12:24:27.635345Z",
          "shell.execute_reply.started": "2022-06-17T12:24:27.434063Z",
          "shell.execute_reply": "2022-06-17T12:24:27.634316Z"
        },
        "trusted": true,
        "id": "nymScwvYQgSy"
      },
      "execution_count": null,
      "outputs": []
    },
    {
      "cell_type": "code",
      "source": [
        "fig = plt.figure(figsize = (8,5))\n",
        "rainfall.RainTomorrow.value_counts(normalize = True).plot(kind='bar', color= ['skyblue','navy'], alpha = 0.9, rot=0)\n",
        "plt.title('RainTomorrow Indicator No(0) and Yes(1) in the Imbalanced Dataset')\n",
        "plt.show()"
      ],
      "metadata": {
        "execution": {
          "iopub.status.busy": "2022-06-17T12:24:28.326342Z",
          "iopub.execute_input": "2022-06-17T12:24:28.326760Z",
          "iopub.status.idle": "2022-06-17T12:24:28.566479Z",
          "shell.execute_reply.started": "2022-06-17T12:24:28.326727Z",
          "shell.execute_reply": "2022-06-17T12:24:28.565486Z"
        },
        "trusted": true,
        "colab": {
          "base_uri": "https://localhost:8080/",
          "height": 336
        },
        "id": "VDK6nCitQgSz",
        "outputId": "2f861e26-7416-4ba2-9d5e-14a4b0cac6c7"
      },
      "execution_count": null,
      "outputs": [
        {
          "output_type": "display_data",
          "data": {
            "text/plain": [
              "<Figure size 576x360 with 1 Axes>"
            ],
            "image/png": "[encoded data removed]"
          },
          "metadata": {
            "needs_background": "light"
          }
        }
      ]
    },
    {
      "cell_type": "markdown",
      "source": [
        "**Conclusion on this observation**\n",
        "\n",
        "> From the analysis above we can see that we can't proceed with this target dataset because it is **imbalanced** i.e the number of variables to be used for predictions are smaller than expected.\n",
        "\n",
        "**What can be done ?**\n",
        "\n",
        "> In this kind of scenerio we would have to oversample the minority in other to balance the dataset."
      ],
      "metadata": {
        "id": "RBMhVZJDhkum"
      }
    },
    {
      "cell_type": "code",
      "source": [
        "from sklearn.utils import resample\n",
        "\n",
        "no = rainfall[rainfall.RainTomorrow == 0]\n",
        "yes = rainfall[rainfall.RainTomorrow == 1]\n",
        "yes_oversampled = resample(yes, replace=True, n_samples=len(no), random_state=123)\n",
        "oversampled = pd.concat([no,yes_oversampled])"
      ],
      "metadata": {
        "execution": {
          "iopub.status.busy": "2022-06-17T12:24:30.437213Z",
          "iopub.execute_input": "2022-06-17T12:24:30.437650Z",
          "iopub.status.idle": "2022-06-17T12:24:31.067499Z",
          "shell.execute_reply.started": "2022-06-17T12:24:30.437606Z",
          "shell.execute_reply": "2022-06-17T12:24:31.066439Z"
        },
        "trusted": true,
        "id": "pa04G0KEQgS3"
      },
      "execution_count": null,
      "outputs": []
    },
    {
      "cell_type": "code",
      "source": [
        "fig = plt.figure(figsize = (8,5))\n",
        "oversampled.RainTomorrow.value_counts(normalize = True).plot(kind = 'bar', color= ['skyblue','navy'], alpha = 0.9, rot=0)\n",
        "plt.title('RainTomorrow Indicator No(0) and Yes(1) after Oversampling Balanced Dataset')\n",
        "plt.show()"
      ],
      "metadata": {
        "execution": {
          "iopub.status.busy": "2022-06-17T12:24:32.126756Z",
          "iopub.execute_input": "2022-06-17T12:24:32.127552Z",
          "iopub.status.idle": "2022-06-17T12:24:32.312197Z",
          "shell.execute_reply.started": "2022-06-17T12:24:32.127491Z",
          "shell.execute_reply": "2022-06-17T12:24:32.311082Z"
        },
        "trusted": true,
        "colab": {
          "base_uri": "https://localhost:8080/",
          "height": 336
        },
        "id": "PjwK04qhQgS6",
        "outputId": "38648289-fee0-4d83-b6b0-e6dfdd551094"
      },
      "execution_count": null,
      "outputs": [
        {
          "output_type": "display_data",
          "data": {
            "text/plain": [
              "<Figure size 576x360 with 1 Axes>"
            ],
            "image/png": "[encoded data removed]"
          },
          "metadata": {
            "needs_background": "light"
          }
        }
      ]
    },
    {
      "cell_type": "code",
      "source": [
        "new = oversampled['RainTomorrow'].isna().sum()\n",
        "print(\"The total number of missing values in target column is {}\".format(new))"
      ],
      "metadata": {
        "colab": {
          "base_uri": "https://localhost:8080/"
        },
        "id": "1z-3R_jujDlz",
        "outputId": "5ef14456-6d44-4dbd-ed2d-d8de461d6cf1"
      },
      "execution_count": null,
      "outputs": [
        {
          "output_type": "stream",
          "name": "stdout",
          "text": [
            "The total number of missing values in target column is 0\n"
          ]
        }
      ]
    },
    {
      "cell_type": "markdown",
      "source": [
        "**Observation**\n",
        "\n",
        ">From the analysis above we can say that we have not only balanced the target variable for effective predictions but we have also filled the target variable missing data.\n",
        "\n",
        "**What to do ?**\n",
        "\n",
        ">We still have the feature variables to deal with (missing values).\n"
      ],
      "metadata": {
        "id": "geWHz7X_kH28"
      }
    },
    {
      "cell_type": "markdown",
      "source": [
        "**Feature Variables**\n",
        "\n",
        "All except the target variable are the feature varaibles."
      ],
      "metadata": {
        "id": "iYiCbUCNk8J4"
      }
    },
    {
      "cell_type": "code",
      "source": [
        "# Examining the missing values with a seabor plot\n",
        "import seaborn as sns\n",
        "sns.heatmap(oversampled.isnull(), cbar=False, cmap='PuBu')"
      ],
      "metadata": {
        "execution": {
          "iopub.status.busy": "2022-06-17T12:24:39.229087Z",
          "iopub.execute_input": "2022-06-17T12:24:39.229529Z",
          "iopub.status.idle": "2022-06-17T12:24:44.387208Z",
          "shell.execute_reply.started": "2022-06-17T12:24:39.229495Z",
          "shell.execute_reply": "2022-06-17T12:24:44.386177Z"
        },
        "trusted": true,
        "colab": {
          "base_uri": "https://localhost:8080/",
          "height": 358
        },
        "id": "JUc-StJoQgS8",
        "outputId": "72a81907-434d-4ee1-f7de-82ba49bd34bd"
      },
      "execution_count": null,
      "outputs": [
        {
          "output_type": "execute_result",
          "data": {
            "text/plain": [
              "<matplotlib.axes._subplots.AxesSubplot at 0x7fcf651fedd0>"
            ]
          },
          "metadata": {},
          "execution_count": 18
        },
        {
          "output_type": "display_data",
          "data": {
            "text/plain": [
              "<Figure size 432x288 with 1 Axes>"
            ],
            "image/png": "[encoded data removed]"
          },
          "metadata": {
            "needs_background": "light"
          }
        }
      ]
    },
    {
      "cell_type": "code",
      "source": [
        "# Examining the total percentage of missing values in tabular form\n",
        "total = oversampled.isnull().sum().sort_values(ascending=False)\n",
        "percent = (oversampled.isnull().sum()/oversampled.isnull().count())\n",
        "missing = pd.concat([total, percent], axis = 1,keys=['Total','Percent'])\n",
        "missing.head(n=6)"
      ],
      "metadata": {
        "execution": {
          "iopub.status.busy": "2022-06-17T12:24:44.994588Z",
          "iopub.execute_input": "2022-06-17T12:24:44.995021Z",
          "iopub.status.idle": "2022-06-17T12:24:45.389278Z",
          "shell.execute_reply.started": "2022-06-17T12:24:44.994987Z",
          "shell.execute_reply": "2022-06-17T12:24:45.388222Z"
        },
        "trusted": true,
        "colab": {
          "base_uri": "https://localhost:8080/",
          "height": 237
        },
        "id": "g9BZcV0iQgS9",
        "outputId": "1a706701-0192-46a5-f076-484915f6b228"
      },
      "execution_count": null,
      "outputs": [
        {
          "output_type": "execute_result",
          "data": {
            "text/plain": [
              "             Total   Percent\n",
              "Sunshine     13467  0.786900\n",
              "Evaporation  10197  0.595828\n",
              "Cloud9am      7380  0.431226\n",
              "Cloud3pm      7072  0.413229\n",
              "WindDir9am    1440  0.084142\n",
              "Pressure3pm    287  0.016770"
            ],
            "text/html": [
              "\n",
              "  <div id=\"df-1d805051-d3d7-4de9-96f3-3034c6090cdb\">\n",
              "    <div class=\"colab-df-container\">\n",
              "      <div>\n",
              "<style scoped>\n",
              "    .dataframe tbody tr th:only-of-type {\n",
              "        vertical-align: middle;\n",
              "    }\n",
              "\n",
              "    .dataframe tbody tr th {\n",
              "        vertical-align: top;\n",
              "    }\n",
              "\n",
              "    .dataframe thead th {\n",
              "        text-align: right;\n",
              "    }\n",
              "</style>\n",
              "<table border=\"1\" class=\"dataframe\">\n",
              "  <thead>\n",
              "    <tr style=\"text-align: right;\">\n",
              "      <th></th>\n",
              "      <th>Total</th>\n",
              "      <th>Percent</th>\n",
              "    </tr>\n",
              "  </thead>\n",
              "  <tbody>\n",
              "    <tr>\n",
              "      <th>Sunshine</th>\n",
              "      <td>13467</td>\n",
              "      <td>0.786900</td>\n",
              "    </tr>\n",
              "    <tr>\n",
              "      <th>Evaporation</th>\n",
              "      <td>10197</td>\n",
              "      <td>0.595828</td>\n",
              "    </tr>\n",
              "    <tr>\n",
              "      <th>Cloud9am</th>\n",
              "      <td>7380</td>\n",
              "      <td>0.431226</td>\n",
              "    </tr>\n",
              "    <tr>\n",
              "      <th>Cloud3pm</th>\n",
              "      <td>7072</td>\n",
              "      <td>0.413229</td>\n",
              "    </tr>\n",
              "    <tr>\n",
              "      <th>WindDir9am</th>\n",
              "      <td>1440</td>\n",
              "      <td>0.084142</td>\n",
              "    </tr>\n",
              "    <tr>\n",
              "      <th>Pressure3pm</th>\n",
              "      <td>287</td>\n",
              "      <td>0.016770</td>\n",
              "    </tr>\n",
              "  </tbody>\n",
              "</table>\n",
              "</div>\n",
              "      <button class=\"colab-df-convert\" onclick=\"convertToInteractive('df-1d805051-d3d7-4de9-96f3-3034c6090cdb')\"\n",
              "              title=\"Convert this dataframe to an interactive table.\"\n",
              "              style=\"display:none;\">\n",
              "        \n",
              "  <svg xmlns=\"http://www.w3.org/2000/svg\" height=\"24px\"viewBox=\"0 0 24 24\"\n",
              "       width=\"24px\">\n",
              "    <path d=\"M0 0h24v24H0V0z\" fill=\"none\"/>\n",
              "    <path d=\"M18.56 5.44l.94 2.06.94-2.06 2.06-.94-2.06-.94-.94-2.06-.94 2.06-2.06.94zm-11 1L8.5 8.5l.94-2.06 2.06-.94-2.06-.94L8.5 2.5l-.94 2.06-2.06.94zm10 10l.94 2.06.94-2.06 2.06-.94-2.06-.94-.94-2.06-.94 2.06-2.06.94z\"/><path d=\"M17.41 7.96l-1.37-1.37c-.4-.4-.92-.59-1.43-.59-.52 0-1.04.2-1.43.59L10.3 9.45l-7.72 7.72c-.78.78-.78 2.05 0 2.83L4 21.41c.39.39.9.59 1.41.59.51 0 1.02-.2 1.41-.59l7.78-7.78 2.81-2.81c.8-.78.8-2.07 0-2.86zM5.41 20L4 18.59l7.72-7.72 1.47 1.35L5.41 20z\"/>\n",
              "  </svg>\n",
              "      </button>\n",
              "      \n",
              "  <style>\n",
              "    .colab-df-container {\n",
              "      display:flex;\n",
              "      flex-wrap:wrap;\n",
              "      gap: 12px;\n",
              "    }\n",
              "\n",
              "    .colab-df-convert {\n",
              "      background-color: #E8F0FE;\n",
              "      border: none;\n",
              "      border-radius: 50%;\n",
              "      cursor: pointer;\n",
              "      display: none;\n",
              "      fill: #1967D2;\n",
              "      height: 32px;\n",
              "      padding: 0 0 0 0;\n",
              "      width: 32px;\n",
              "    }\n",
              "\n",
              "    .colab-df-convert:hover {\n",
              "      background-color: #E2EBFA;\n",
              "      box-shadow: 0px 1px 2px rgba(60, 64, 67, 0.3), 0px 1px 3px 1px rgba(60, 64, 67, 0.15);\n",
              "      fill: #174EA6;\n",
              "    }\n",
              "\n",
              "    [theme=dark] .colab-df-convert {\n",
              "      background-color: #3B4455;\n",
              "      fill: #D2E3FC;\n",
              "    }\n",
              "\n",
              "    [theme=dark] .colab-df-convert:hover {\n",
              "      background-color: #434B5C;\n",
              "      box-shadow: 0px 1px 3px 1px rgba(0, 0, 0, 0.15);\n",
              "      filter: drop-shadow(0px 1px 2px rgba(0, 0, 0, 0.3));\n",
              "      fill: #FFFFFF;\n",
              "    }\n",
              "  </style>\n",
              "\n",
              "      <script>\n",
              "        const buttonEl =\n",
              "          document.querySelector('#df-1d805051-d3d7-4de9-96f3-3034c6090cdb button.colab-df-convert');\n",
              "        buttonEl.style.display =\n",
              "          google.colab.kernel.accessAllowed ? 'block' : 'none';\n",
              "\n",
              "        async function convertToInteractive(key) {\n",
              "          const element = document.querySelector('#df-1d805051-d3d7-4de9-96f3-3034c6090cdb');\n",
              "          const dataTable =\n",
              "            await google.colab.kernel.invokeFunction('convertToInteractive',\n",
              "                                                     [key], {});\n",
              "          if (!dataTable) return;\n",
              "\n",
              "          const docLinkHtml = 'Like what you see? Visit the ' +\n",
              "            '<a target=\"_blank\" href=https://colab.research.google.com/notebooks/data_table.ipynb>data table notebook</a>'\n",
              "            + ' to learn more about interactive tables.';\n",
              "          element.innerHTML = '';\n",
              "          dataTable['output_type'] = 'display_data';\n",
              "          await google.colab.output.renderOutput(dataTable, element);\n",
              "          const docLink = document.createElement('div');\n",
              "          docLink.innerHTML = docLinkHtml;\n",
              "          element.appendChild(docLink);\n",
              "        }\n",
              "      </script>\n",
              "    </div>\n",
              "  </div>\n",
              "  "
            ]
          },
          "metadata": {},
          "execution_count": 19
        }
      ]
    },
    {
      "cell_type": "markdown",
      "source": [
        "**Observations**\n",
        "\n",
        "> We can deduce that there are more missing values in the dataset.\n",
        "\n",
        "**What can be done ?**\n",
        "\n",
        "> * Firstly work on the missing catergorical columns (object)\n",
        "> * Then work on the missing numerical columns (float)"
      ],
      "metadata": {
        "id": "YzSNfrUlmtYa"
      }
    },
    {
      "cell_type": "markdown",
      "source": [
        " #### **BIVARIATE ANALYSIS**"
      ],
      "metadata": {
        "id": "2TUKnPCKm2E_"
      }
    },
    {
      "cell_type": "markdown",
      "source": [
        "##### **Missing Categorical columns**"
      ],
      "metadata": {
        "id": "aRxIE9M_ntJM"
      }
    },
    {
      "cell_type": "code",
      "source": [
        "# Previewing all categorical columns\n",
        "cartegorical = oversampled.select_dtypes(include=['object']).columns\n",
        "cartegorical"
      ],
      "metadata": {
        "execution": {
          "iopub.status.busy": "2022-06-17T12:24:47.100102Z",
          "iopub.execute_input": "2022-06-17T12:24:47.100498Z",
          "iopub.status.idle": "2022-06-17T12:24:47.147733Z",
          "shell.execute_reply.started": "2022-06-17T12:24:47.100467Z",
          "shell.execute_reply": "2022-06-17T12:24:47.146687Z"
        },
        "trusted": true,
        "id": "-DkBoVZdQgS-",
        "colab": {
          "base_uri": "https://localhost:8080/"
        },
        "outputId": "41a8c475-80cb-454f-f897-5aba2b789d69"
      },
      "execution_count": null,
      "outputs": [
        {
          "output_type": "execute_result",
          "data": {
            "text/plain": [
              "Index(['Date', 'Location', 'WindGustDir', 'WindDir9am', 'WindDir3pm',\n",
              "       'RainToday'],\n",
              "      dtype='object')"
            ]
          },
          "metadata": {},
          "execution_count": 20
        }
      ]
    },
    {
      "cell_type": "markdown",
      "source": [
        ">Labels are called Cardinality in Machine Learning Modellings.\n",
        "\n",
        "> Lets take note of labels in categorical data's, the more the labels the harder it is to make predictions."
      ],
      "metadata": {
        "id": "sqDAhe8mn3yw"
      }
    },
    {
      "cell_type": "code",
      "source": [
        "for var in cartegorical:\n",
        "  print(var, ' contains ', len(oversampled[var].unique()), ' labels')"
      ],
      "metadata": {
        "colab": {
          "base_uri": "https://localhost:8080/"
        },
        "id": "NVs4EweSntI1",
        "outputId": "e981e377-ba51-41ac-e9da-ccaae77fc918"
      },
      "execution_count": null,
      "outputs": [
        {
          "output_type": "stream",
          "name": "stdout",
          "text": [
            "Date  contains  3039  labels\n",
            "Location  contains  4  labels\n",
            "WindGustDir  contains  17  labels\n",
            "WindDir9am  contains  17  labels\n",
            "WindDir3pm  contains  17  labels\n",
            "RainToday  contains  3  labels\n"
          ]
        }
      ]
    },
    {
      "cell_type": "markdown",
      "source": [
        "###### **Date**"
      ],
      "metadata": {
        "id": "Sw7l-CDF4-gX"
      }
    },
    {
      "cell_type": "markdown",
      "source": [
        "**Observations**\n",
        "\n",
        "* We can see that 'Date' has 3436 labels which could be a very big problem, let's so some preprocessing on date to reduce its cardinality\n",
        "\n",
        "> **What to do ?**\n",
        ">\n",
        "> * convert date column to datatime format from object\n",
        "> * then work on other catergorical columns\n",
        "> * Drop the original Date column from the dataset"
      ],
      "metadata": {
        "id": "IfiEBQoOxR0K"
      }
    },
    {
      "cell_type": "code",
      "source": [
        "# Convert date column to datetime format\n",
        "oversampled['Date'] = pd.to_datetime(oversampled['Date'])"
      ],
      "metadata": {
        "id": "umY2npI_1N1c"
      },
      "execution_count": null,
      "outputs": []
    },
    {
      "cell_type": "code",
      "source": [
        "# Extract Year, Month and Day from the Date column\n",
        "oversampled['Year'] = oversampled['Date'].dt.year\n",
        "oversampled['Month'] = oversampled['Date'].dt.month\n",
        "oversampled['Day'] = oversampled['Date'].dt.month"
      ],
      "metadata": {
        "id": "fKc8ec8ExOGP"
      },
      "execution_count": null,
      "outputs": []
    },
    {
      "cell_type": "code",
      "source": [
        "# Drop the date column\n",
        "oversampled.drop('Date', axis=1, inplace = True)"
      ],
      "metadata": {
        "id": "oKH98PDU2P2m"
      },
      "execution_count": null,
      "outputs": []
    },
    {
      "cell_type": "markdown",
      "source": [
        "> * Seeing that we have been able to extract the Date column to datetime, lets work on the other catergorocal data one at a time."
      ],
      "metadata": {
        "id": "PCP8Gsy711Yx"
      }
    },
    {
      "cell_type": "code",
      "source": [
        "cartegorical = oversampled.select_dtypes(include=['object']).columns\n",
        "cartegorical.to_list()"
      ],
      "metadata": {
        "colab": {
          "base_uri": "https://localhost:8080/"
        },
        "id": "Y3y5YdsVxC3j",
        "outputId": "0d1870c1-000f-470b-c341-55202c82a6ce"
      },
      "execution_count": null,
      "outputs": [
        {
          "output_type": "execute_result",
          "data": {
            "text/plain": [
              "['Location', 'WindGustDir', 'WindDir9am', 'WindDir3pm', 'RainToday']"
            ]
          },
          "metadata": {},
          "execution_count": 25
        }
      ]
    },
    {
      "cell_type": "code",
      "source": [
        "# Check for missing values in categorical variables \n",
        "oversampled[cartegorical].isnull().sum()"
      ],
      "metadata": {
        "colab": {
          "base_uri": "https://localhost:8080/"
        },
        "id": "tmlnr95Z22uN",
        "outputId": "80736285-12de-4775-dc63-53e7060e5b2e"
      },
      "execution_count": null,
      "outputs": [
        {
          "output_type": "execute_result",
          "data": {
            "text/plain": [
              "Location          0\n",
              "WindGustDir     156\n",
              "WindDir9am     1440\n",
              "WindDir3pm      220\n",
              "RainToday       148\n",
              "dtype: int64"
            ]
          },
          "metadata": {},
          "execution_count": 26
        }
      ]
    },
    {
      "cell_type": "markdown",
      "source": [
        "###### **Location**"
      ],
      "metadata": {
        "id": "1JOcQdWC3EWe"
      }
    },
    {
      "cell_type": "markdown",
      "source": [
        "**Observations**\n",
        "\n",
        "> * Location has 49 labels\n",
        "> * Lets find a way to remove the labels\n",
        "\n",
        "**What can be done ?**\n",
        "> * let's do One Hot Encoding of Location variable, \n",
        "> * Get k-1 dummy variables after One Hot Encoding,\n",
        "> * Preview the dataset"
      ],
      "metadata": {
        "id": "6EKCUopg3-g7"
      }
    },
    {
      "cell_type": "code",
      "source": [
        "oversampled['Location'].value_counts()"
      ],
      "metadata": {
        "colab": {
          "base_uri": "https://localhost:8080/"
        },
        "id": "C3eP73G_3C39",
        "outputId": "a6a778ab-c06c-42be-9229-077b2ec28d52"
      },
      "execution_count": null,
      "outputs": [
        {
          "output_type": "execute_result",
          "data": {
            "text/plain": [
              "Albury           4892\n",
              "BadgerysCreek    4724\n",
              "Cobar            4120\n",
              "CoffsHarbour     3378\n",
              "Name: Location, dtype: int64"
            ]
          },
          "metadata": {},
          "execution_count": 27
        }
      ]
    },
    {
      "cell_type": "code",
      "source": [
        "pd.get_dummies(oversampled['Location'], drop_first=True).head(n=2)"
      ],
      "metadata": {
        "colab": {
          "base_uri": "https://localhost:8080/"
        },
        "id": "xCXPd3cl398r",
        "outputId": "ae90f777-1798-4a85-d3fb-e867ab6ee60f"
      },
      "execution_count": null,
      "outputs": [
        {
          "output_type": "execute_result",
          "data": {
            "text/plain": [
              "   BadgerysCreek  Cobar  CoffsHarbour\n",
              "0              0      0             0\n",
              "1              0      0             0"
            ],
            "text/html": [
              "\n",
              "  <div id=\"df-870dd9f7-e0d2-4b67-923c-7bf214cc38a4\">\n",
              "    <div class=\"colab-df-container\">\n",
              "      <div>\n",
              "<style scoped>\n",
              "    .dataframe tbody tr th:only-of-type {\n",
              "        vertical-align: middle;\n",
              "    }\n",
              "\n",
              "    .dataframe tbody tr th {\n",
              "        vertical-align: top;\n",
              "    }\n",
              "\n",
              "    .dataframe thead th {\n",
              "        text-align: right;\n",
              "    }\n",
              "</style>\n",
              "<table border=\"1\" class=\"dataframe\">\n",
              "  <thead>\n",
              "    <tr style=\"text-align: right;\">\n",
              "      <th></th>\n",
              "      <th>BadgerysCreek</th>\n",
              "      <th>Cobar</th>\n",
              "      <th>CoffsHarbour</th>\n",
              "    </tr>\n",
              "  </thead>\n",
              "  <tbody>\n",
              "    <tr>\n",
              "      <th>0</th>\n",
              "      <td>0</td>\n",
              "      <td>0</td>\n",
              "      <td>0</td>\n",
              "    </tr>\n",
              "    <tr>\n",
              "      <th>1</th>\n",
              "      <td>0</td>\n",
              "      <td>0</td>\n",
              "      <td>0</td>\n",
              "    </tr>\n",
              "  </tbody>\n",
              "</table>\n",
              "</div>\n",
              "      <button class=\"colab-df-convert\" onclick=\"convertToInteractive('df-870dd9f7-e0d2-4b67-923c-7bf214cc38a4')\"\n",
              "              title=\"Convert this dataframe to an interactive table.\"\n",
              "              style=\"display:none;\">\n",
              "        \n",
              "  <svg xmlns=\"http://www.w3.org/2000/svg\" height=\"24px\"viewBox=\"0 0 24 24\"\n",
              "       width=\"24px\">\n",
              "    <path d=\"M0 0h24v24H0V0z\" fill=\"none\"/>\n",
              "    <path d=\"M18.56 5.44l.94 2.06.94-2.06 2.06-.94-2.06-.94-.94-2.06-.94 2.06-2.06.94zm-11 1L8.5 8.5l.94-2.06 2.06-.94-2.06-.94L8.5 2.5l-.94 2.06-2.06.94zm10 10l.94 2.06.94-2.06 2.06-.94-2.06-.94-.94-2.06-.94 2.06-2.06.94z\"/><path d=\"M17.41 7.96l-1.37-1.37c-.4-.4-.92-.59-1.43-.59-.52 0-1.04.2-1.43.59L10.3 9.45l-7.72 7.72c-.78.78-.78 2.05 0 2.83L4 21.41c.39.39.9.59 1.41.59.51 0 1.02-.2 1.41-.59l7.78-7.78 2.81-2.81c.8-.78.8-2.07 0-2.86zM5.41 20L4 18.59l7.72-7.72 1.47 1.35L5.41 20z\"/>\n",
              "  </svg>\n",
              "      </button>\n",
              "      \n",
              "  <style>\n",
              "    .colab-df-container {\n",
              "      display:flex;\n",
              "      flex-wrap:wrap;\n",
              "      gap: 12px;\n",
              "    }\n",
              "\n",
              "    .colab-df-convert {\n",
              "      background-color: #E8F0FE;\n",
              "      border: none;\n",
              "      border-radius: 50%;\n",
              "      cursor: pointer;\n",
              "      display: none;\n",
              "      fill: #1967D2;\n",
              "      height: 32px;\n",
              "      padding: 0 0 0 0;\n",
              "      width: 32px;\n",
              "    }\n",
              "\n",
              "    .colab-df-convert:hover {\n",
              "      background-color: #E2EBFA;\n",
              "      box-shadow: 0px 1px 2px rgba(60, 64, 67, 0.3), 0px 1px 3px 1px rgba(60, 64, 67, 0.15);\n",
              "      fill: #174EA6;\n",
              "    }\n",
              "\n",
              "    [theme=dark] .colab-df-convert {\n",
              "      background-color: #3B4455;\n",
              "      fill: #D2E3FC;\n",
              "    }\n",
              "\n",
              "    [theme=dark] .colab-df-convert:hover {\n",
              "      background-color: #434B5C;\n",
              "      box-shadow: 0px 1px 3px 1px rgba(0, 0, 0, 0.15);\n",
              "      filter: drop-shadow(0px 1px 2px rgba(0, 0, 0, 0.3));\n",
              "      fill: #FFFFFF;\n",
              "    }\n",
              "  </style>\n",
              "\n",
              "      <script>\n",
              "        const buttonEl =\n",
              "          document.querySelector('#df-870dd9f7-e0d2-4b67-923c-7bf214cc38a4 button.colab-df-convert');\n",
              "        buttonEl.style.display =\n",
              "          google.colab.kernel.accessAllowed ? 'block' : 'none';\n",
              "\n",
              "        async function convertToInteractive(key) {\n",
              "          const element = document.querySelector('#df-870dd9f7-e0d2-4b67-923c-7bf214cc38a4');\n",
              "          const dataTable =\n",
              "            await google.colab.kernel.invokeFunction('convertToInteractive',\n",
              "                                                     [key], {});\n",
              "          if (!dataTable) return;\n",
              "\n",
              "          const docLinkHtml = 'Like what you see? Visit the ' +\n",
              "            '<a target=\"_blank\" href=https://colab.research.google.com/notebooks/data_table.ipynb>data table notebook</a>'\n",
              "            + ' to learn more about interactive tables.';\n",
              "          element.innerHTML = '';\n",
              "          dataTable['output_type'] = 'display_data';\n",
              "          await google.colab.output.renderOutput(dataTable, element);\n",
              "          const docLink = document.createElement('div');\n",
              "          docLink.innerHTML = docLinkHtml;\n",
              "          element.appendChild(docLink);\n",
              "        }\n",
              "      </script>\n",
              "    </div>\n",
              "  </div>\n",
              "  "
            ]
          },
          "metadata": {},
          "execution_count": 28
        }
      ]
    },
    {
      "cell_type": "markdown",
      "source": [
        "###### **WindGustDir**"
      ],
      "metadata": {
        "id": "7huFtmWZ55M_"
      }
    },
    {
      "cell_type": "markdown",
      "source": [
        "**Observations**\n",
        "\n",
        "> * WindGustDir has 17 labels\n",
        "> * Lets find a way to remove the labels\n",
        "\n",
        "**What can be done ?**\n",
        "> * let's do One Hot Encoding of Location variable, \n",
        "> * Get k-1 dummy variables after One Hot Encoding,\n",
        "> * Add a column for nan\n",
        "> * Preview the dataset"
      ],
      "metadata": {
        "id": "ePtnzmgX6a5N"
      }
    },
    {
      "cell_type": "code",
      "source": [
        "oversampled['WindGustDir'].value_counts()"
      ],
      "metadata": {
        "colab": {
          "base_uri": "https://localhost:8080/"
        },
        "id": "nzXOXcC-64Hi",
        "outputId": "6db1bd5c-595b-4861-b49e-67e253452fe8"
      },
      "execution_count": null,
      "outputs": [
        {
          "output_type": "execute_result",
          "data": {
            "text/plain": [
              "SW     1593\n",
              "WSW    1329\n",
              "W      1295\n",
              "NNE    1259\n",
              "S      1213\n",
              "SSW    1100\n",
              "NE     1086\n",
              "WNW    1081\n",
              "ENE    1059\n",
              "E      1043\n",
              "N       961\n",
              "SSE     872\n",
              "SE      864\n",
              "ESE     844\n",
              "NW      726\n",
              "NNW     633\n",
              "Name: WindGustDir, dtype: int64"
            ]
          },
          "metadata": {},
          "execution_count": 29
        }
      ]
    },
    {
      "cell_type": "code",
      "source": [
        "pd.get_dummies(oversampled['WindGustDir'], drop_first=True, dummy_na=True).head(n=2)"
      ],
      "metadata": {
        "colab": {
          "base_uri": "https://localhost:8080/"
        },
        "id": "DS1rF0NY6aDB",
        "outputId": "21552181-8fdd-4450-f646-765b5c36d23b"
      },
      "execution_count": null,
      "outputs": [
        {
          "output_type": "execute_result",
          "data": {
            "text/plain": [
              "   ENE  ESE  N  NE  NNE  NNW  NW  S  SE  SSE  SSW  SW  W  WNW  WSW  NaN\n",
              "0    0    0  0   0    0    0   0  0   0    0    0   0  1    0    0    0\n",
              "1    0    0  0   0    0    0   0  0   0    0    0   0  0    1    0    0"
            ],
            "text/html": [
              "\n",
              "  <div id=\"df-64babe6d-41a2-40e0-9067-6e27581ac312\">\n",
              "    <div class=\"colab-df-container\">\n",
              "      <div>\n",
              "<style scoped>\n",
              "    .dataframe tbody tr th:only-of-type {\n",
              "        vertical-align: middle;\n",
              "    }\n",
              "\n",
              "    .dataframe tbody tr th {\n",
              "        vertical-align: top;\n",
              "    }\n",
              "\n",
              "    .dataframe thead th {\n",
              "        text-align: right;\n",
              "    }\n",
              "</style>\n",
              "<table border=\"1\" class=\"dataframe\">\n",
              "  <thead>\n",
              "    <tr style=\"text-align: right;\">\n",
              "      <th></th>\n",
              "      <th>ENE</th>\n",
              "      <th>ESE</th>\n",
              "      <th>N</th>\n",
              "      <th>NE</th>\n",
              "      <th>NNE</th>\n",
              "      <th>NNW</th>\n",
              "      <th>NW</th>\n",
              "      <th>S</th>\n",
              "      <th>SE</th>\n",
              "      <th>SSE</th>\n",
              "      <th>SSW</th>\n",
              "      <th>SW</th>\n",
              "      <th>W</th>\n",
              "      <th>WNW</th>\n",
              "      <th>WSW</th>\n",
              "      <th>NaN</th>\n",
              "    </tr>\n",
              "  </thead>\n",
              "  <tbody>\n",
              "    <tr>\n",
              "      <th>0</th>\n",
              "      <td>0</td>\n",
              "      <td>0</td>\n",
              "      <td>0</td>\n",
              "      <td>0</td>\n",
              "      <td>0</td>\n",
              "      <td>0</td>\n",
              "      <td>0</td>\n",
              "      <td>0</td>\n",
              "      <td>0</td>\n",
              "      <td>0</td>\n",
              "      <td>0</td>\n",
              "      <td>0</td>\n",
              "      <td>1</td>\n",
              "      <td>0</td>\n",
              "      <td>0</td>\n",
              "      <td>0</td>\n",
              "    </tr>\n",
              "    <tr>\n",
              "      <th>1</th>\n",
              "      <td>0</td>\n",
              "      <td>0</td>\n",
              "      <td>0</td>\n",
              "      <td>0</td>\n",
              "      <td>0</td>\n",
              "      <td>0</td>\n",
              "      <td>0</td>\n",
              "      <td>0</td>\n",
              "      <td>0</td>\n",
              "      <td>0</td>\n",
              "      <td>0</td>\n",
              "      <td>0</td>\n",
              "      <td>0</td>\n",
              "      <td>1</td>\n",
              "      <td>0</td>\n",
              "      <td>0</td>\n",
              "    </tr>\n",
              "  </tbody>\n",
              "</table>\n",
              "</div>\n",
              "      <button class=\"colab-df-convert\" onclick=\"convertToInteractive('df-64babe6d-41a2-40e0-9067-6e27581ac312')\"\n",
              "              title=\"Convert this dataframe to an interactive table.\"\n",
              "              style=\"display:none;\">\n",
              "        \n",
              "  <svg xmlns=\"http://www.w3.org/2000/svg\" height=\"24px\"viewBox=\"0 0 24 24\"\n",
              "       width=\"24px\">\n",
              "    <path d=\"M0 0h24v24H0V0z\" fill=\"none\"/>\n",
              "    <path d=\"M18.56 5.44l.94 2.06.94-2.06 2.06-.94-2.06-.94-.94-2.06-.94 2.06-2.06.94zm-11 1L8.5 8.5l.94-2.06 2.06-.94-2.06-.94L8.5 2.5l-.94 2.06-2.06.94zm10 10l.94 2.06.94-2.06 2.06-.94-2.06-.94-.94-2.06-.94 2.06-2.06.94z\"/><path d=\"M17.41 7.96l-1.37-1.37c-.4-.4-.92-.59-1.43-.59-.52 0-1.04.2-1.43.59L10.3 9.45l-7.72 7.72c-.78.78-.78 2.05 0 2.83L4 21.41c.39.39.9.59 1.41.59.51 0 1.02-.2 1.41-.59l7.78-7.78 2.81-2.81c.8-.78.8-2.07 0-2.86zM5.41 20L4 18.59l7.72-7.72 1.47 1.35L5.41 20z\"/>\n",
              "  </svg>\n",
              "      </button>\n",
              "      \n",
              "  <style>\n",
              "    .colab-df-container {\n",
              "      display:flex;\n",
              "      flex-wrap:wrap;\n",
              "      gap: 12px;\n",
              "    }\n",
              "\n",
              "    .colab-df-convert {\n",
              "      background-color: #E8F0FE;\n",
              "      border: none;\n",
              "      border-radius: 50%;\n",
              "      cursor: pointer;\n",
              "      display: none;\n",
              "      fill: #1967D2;\n",
              "      height: 32px;\n",
              "      padding: 0 0 0 0;\n",
              "      width: 32px;\n",
              "    }\n",
              "\n",
              "    .colab-df-convert:hover {\n",
              "      background-color: #E2EBFA;\n",
              "      box-shadow: 0px 1px 2px rgba(60, 64, 67, 0.3), 0px 1px 3px 1px rgba(60, 64, 67, 0.15);\n",
              "      fill: #174EA6;\n",
              "    }\n",
              "\n",
              "    [theme=dark] .colab-df-convert {\n",
              "      background-color: #3B4455;\n",
              "      fill: #D2E3FC;\n",
              "    }\n",
              "\n",
              "    [theme=dark] .colab-df-convert:hover {\n",
              "      background-color: #434B5C;\n",
              "      box-shadow: 0px 1px 3px 1px rgba(0, 0, 0, 0.15);\n",
              "      filter: drop-shadow(0px 1px 2px rgba(0, 0, 0, 0.3));\n",
              "      fill: #FFFFFF;\n",
              "    }\n",
              "  </style>\n",
              "\n",
              "      <script>\n",
              "        const buttonEl =\n",
              "          document.querySelector('#df-64babe6d-41a2-40e0-9067-6e27581ac312 button.colab-df-convert');\n",
              "        buttonEl.style.display =\n",
              "          google.colab.kernel.accessAllowed ? 'block' : 'none';\n",
              "\n",
              "        async function convertToInteractive(key) {\n",
              "          const element = document.querySelector('#df-64babe6d-41a2-40e0-9067-6e27581ac312');\n",
              "          const dataTable =\n",
              "            await google.colab.kernel.invokeFunction('convertToInteractive',\n",
              "                                                     [key], {});\n",
              "          if (!dataTable) return;\n",
              "\n",
              "          const docLinkHtml = 'Like what you see? Visit the ' +\n",
              "            '<a target=\"_blank\" href=https://colab.research.google.com/notebooks/data_table.ipynb>data table notebook</a>'\n",
              "            + ' to learn more about interactive tables.';\n",
              "          element.innerHTML = '';\n",
              "          dataTable['output_type'] = 'display_data';\n",
              "          await google.colab.output.renderOutput(dataTable, element);\n",
              "          const docLink = document.createElement('div');\n",
              "          docLink.innerHTML = docLinkHtml;\n",
              "          element.appendChild(docLink);\n",
              "        }\n",
              "      </script>\n",
              "    </div>\n",
              "  </div>\n",
              "  "
            ]
          },
          "metadata": {},
          "execution_count": 30
        }
      ]
    },
    {
      "cell_type": "markdown",
      "source": [
        "###### **WindDir9am**"
      ],
      "metadata": {
        "id": "w7wiNHAYwtpk"
      }
    },
    {
      "cell_type": "markdown",
      "source": [
        "**Observations**\n",
        "\n",
        "> * WindDir9am has 17 labels\n",
        "> * Lets find a way to remove the labels\n",
        "\n",
        "**What can be done ?**\n",
        "> * let's do One Hot Encoding of Location variable, \n",
        "> * Get k-1 dummy variables after One Hot Encoding,\n",
        "> * Add a column for nan\n",
        "> * Preview the dataset"
      ],
      "metadata": {
        "id": "sMJRqHGRw_jT"
      }
    },
    {
      "cell_type": "code",
      "source": [
        "oversampled['WindDir9am'].value_counts()"
      ],
      "metadata": {
        "colab": {
          "base_uri": "https://localhost:8080/"
        },
        "id": "f8eMQ8gzwmZu",
        "outputId": "93717b32-33d5-461a-80a2-0bc285845642"
      },
      "execution_count": null,
      "outputs": [
        {
          "output_type": "execute_result",
          "data": {
            "text/plain": [
              "SW     2236\n",
              "WSW    1226\n",
              "N      1159\n",
              "SE     1130\n",
              "SSW     999\n",
              "NNE     966\n",
              "NE      921\n",
              "S       918\n",
              "SSE     914\n",
              "E       874\n",
              "ESE     851\n",
              "ENE     847\n",
              "NNW     740\n",
              "NW      671\n",
              "W       656\n",
              "WNW     566\n",
              "Name: WindDir9am, dtype: int64"
            ]
          },
          "metadata": {},
          "execution_count": 32
        }
      ]
    },
    {
      "cell_type": "code",
      "source": [
        "pd.get_dummies(oversampled['WindDir9am'], drop_first=True, dummy_na=True).head(n=2)"
      ],
      "metadata": {
        "colab": {
          "base_uri": "https://localhost:8080/"
        },
        "id": "ua9K-SzOxQdg",
        "outputId": "c25c8a27-4c43-402a-b3cb-4427939e0eea"
      },
      "execution_count": null,
      "outputs": [
        {
          "output_type": "execute_result",
          "data": {
            "text/plain": [
              "   ENE  ESE  N  NE  NNE  NNW  NW  S  SE  SSE  SSW  SW  W  WNW  WSW  NaN\n",
              "0    0    0  0   0    0    0   0  0   0    0    0   0  1    0    0    0\n",
              "1    0    0  0   0    0    1   0  0   0    0    0   0  0    0    0    0"
            ],
            "text/html": [
              "\n",
              "  <div id=\"df-e7b11705-efd0-4705-9c41-ad5a7f73a980\">\n",
              "    <div class=\"colab-df-container\">\n",
              "      <div>\n",
              "<style scoped>\n",
              "    .dataframe tbody tr th:only-of-type {\n",
              "        vertical-align: middle;\n",
              "    }\n",
              "\n",
              "    .dataframe tbody tr th {\n",
              "        vertical-align: top;\n",
              "    }\n",
              "\n",
              "    .dataframe thead th {\n",
              "        text-align: right;\n",
              "    }\n",
              "</style>\n",
              "<table border=\"1\" class=\"dataframe\">\n",
              "  <thead>\n",
              "    <tr style=\"text-align: right;\">\n",
              "      <th></th>\n",
              "      <th>ENE</th>\n",
              "      <th>ESE</th>\n",
              "      <th>N</th>\n",
              "      <th>NE</th>\n",
              "      <th>NNE</th>\n",
              "      <th>NNW</th>\n",
              "      <th>NW</th>\n",
              "      <th>S</th>\n",
              "      <th>SE</th>\n",
              "      <th>SSE</th>\n",
              "      <th>SSW</th>\n",
              "      <th>SW</th>\n",
              "      <th>W</th>\n",
              "      <th>WNW</th>\n",
              "      <th>WSW</th>\n",
              "      <th>NaN</th>\n",
              "    </tr>\n",
              "  </thead>\n",
              "  <tbody>\n",
              "    <tr>\n",
              "      <th>0</th>\n",
              "      <td>0</td>\n",
              "      <td>0</td>\n",
              "      <td>0</td>\n",
              "      <td>0</td>\n",
              "      <td>0</td>\n",
              "      <td>0</td>\n",
              "      <td>0</td>\n",
              "      <td>0</td>\n",
              "      <td>0</td>\n",
              "      <td>0</td>\n",
              "      <td>0</td>\n",
              "      <td>0</td>\n",
              "      <td>1</td>\n",
              "      <td>0</td>\n",
              "      <td>0</td>\n",
              "      <td>0</td>\n",
              "    </tr>\n",
              "    <tr>\n",
              "      <th>1</th>\n",
              "      <td>0</td>\n",
              "      <td>0</td>\n",
              "      <td>0</td>\n",
              "      <td>0</td>\n",
              "      <td>0</td>\n",
              "      <td>1</td>\n",
              "      <td>0</td>\n",
              "      <td>0</td>\n",
              "      <td>0</td>\n",
              "      <td>0</td>\n",
              "      <td>0</td>\n",
              "      <td>0</td>\n",
              "      <td>0</td>\n",
              "      <td>0</td>\n",
              "      <td>0</td>\n",
              "      <td>0</td>\n",
              "    </tr>\n",
              "  </tbody>\n",
              "</table>\n",
              "</div>\n",
              "      <button class=\"colab-df-convert\" onclick=\"convertToInteractive('df-e7b11705-efd0-4705-9c41-ad5a7f73a980')\"\n",
              "              title=\"Convert this dataframe to an interactive table.\"\n",
              "              style=\"display:none;\">\n",
              "        \n",
              "  <svg xmlns=\"http://www.w3.org/2000/svg\" height=\"24px\"viewBox=\"0 0 24 24\"\n",
              "       width=\"24px\">\n",
              "    <path d=\"M0 0h24v24H0V0z\" fill=\"none\"/>\n",
              "    <path d=\"M18.56 5.44l.94 2.06.94-2.06 2.06-.94-2.06-.94-.94-2.06-.94 2.06-2.06.94zm-11 1L8.5 8.5l.94-2.06 2.06-.94-2.06-.94L8.5 2.5l-.94 2.06-2.06.94zm10 10l.94 2.06.94-2.06 2.06-.94-2.06-.94-.94-2.06-.94 2.06-2.06.94z\"/><path d=\"M17.41 7.96l-1.37-1.37c-.4-.4-.92-.59-1.43-.59-.52 0-1.04.2-1.43.59L10.3 9.45l-7.72 7.72c-.78.78-.78 2.05 0 2.83L4 21.41c.39.39.9.59 1.41.59.51 0 1.02-.2 1.41-.59l7.78-7.78 2.81-2.81c.8-.78.8-2.07 0-2.86zM5.41 20L4 18.59l7.72-7.72 1.47 1.35L5.41 20z\"/>\n",
              "  </svg>\n",
              "      </button>\n",
              "      \n",
              "  <style>\n",
              "    .colab-df-container {\n",
              "      display:flex;\n",
              "      flex-wrap:wrap;\n",
              "      gap: 12px;\n",
              "    }\n",
              "\n",
              "    .colab-df-convert {\n",
              "      background-color: #E8F0FE;\n",
              "      border: none;\n",
              "      border-radius: 50%;\n",
              "      cursor: pointer;\n",
              "      display: none;\n",
              "      fill: #1967D2;\n",
              "      height: 32px;\n",
              "      padding: 0 0 0 0;\n",
              "      width: 32px;\n",
              "    }\n",
              "\n",
              "    .colab-df-convert:hover {\n",
              "      background-color: #E2EBFA;\n",
              "      box-shadow: 0px 1px 2px rgba(60, 64, 67, 0.3), 0px 1px 3px 1px rgba(60, 64, 67, 0.15);\n",
              "      fill: #174EA6;\n",
              "    }\n",
              "\n",
              "    [theme=dark] .colab-df-convert {\n",
              "      background-color: #3B4455;\n",
              "      fill: #D2E3FC;\n",
              "    }\n",
              "\n",
              "    [theme=dark] .colab-df-convert:hover {\n",
              "      background-color: #434B5C;\n",
              "      box-shadow: 0px 1px 3px 1px rgba(0, 0, 0, 0.15);\n",
              "      filter: drop-shadow(0px 1px 2px rgba(0, 0, 0, 0.3));\n",
              "      fill: #FFFFFF;\n",
              "    }\n",
              "  </style>\n",
              "\n",
              "      <script>\n",
              "        const buttonEl =\n",
              "          document.querySelector('#df-e7b11705-efd0-4705-9c41-ad5a7f73a980 button.colab-df-convert');\n",
              "        buttonEl.style.display =\n",
              "          google.colab.kernel.accessAllowed ? 'block' : 'none';\n",
              "\n",
              "        async function convertToInteractive(key) {\n",
              "          const element = document.querySelector('#df-e7b11705-efd0-4705-9c41-ad5a7f73a980');\n",
              "          const dataTable =\n",
              "            await google.colab.kernel.invokeFunction('convertToInteractive',\n",
              "                                                     [key], {});\n",
              "          if (!dataTable) return;\n",
              "\n",
              "          const docLinkHtml = 'Like what you see? Visit the ' +\n",
              "            '<a target=\"_blank\" href=https://colab.research.google.com/notebooks/data_table.ipynb>data table notebook</a>'\n",
              "            + ' to learn more about interactive tables.';\n",
              "          element.innerHTML = '';\n",
              "          dataTable['output_type'] = 'display_data';\n",
              "          await google.colab.output.renderOutput(dataTable, element);\n",
              "          const docLink = document.createElement('div');\n",
              "          docLink.innerHTML = docLinkHtml;\n",
              "          element.appendChild(docLink);\n",
              "        }\n",
              "      </script>\n",
              "    </div>\n",
              "  </div>\n",
              "  "
            ]
          },
          "metadata": {},
          "execution_count": 35
        }
      ]
    },
    {
      "cell_type": "markdown",
      "source": [
        "###### **WindDir3pm**"
      ],
      "metadata": {
        "id": "dRmMUBT4xXyU"
      }
    },
    {
      "cell_type": "markdown",
      "source": [
        "**Observations**\n",
        "\n",
        "> * WindDir3pm has 17 labels\n",
        "> * Lets find a way to remove the labels\n",
        "\n",
        "**What can be done ?**\n",
        "> * let's do One Hot Encoding of Location variable, \n",
        "> * Get k-1 dummy variables after One Hot Encoding,\n",
        "> * Add a column for nan\n",
        "> * Preview the dataset"
      ],
      "metadata": {
        "id": "iWN7_S7VxcpT"
      }
    },
    {
      "cell_type": "code",
      "source": [
        "oversampled['WindDir3pm'].value_counts()"
      ],
      "metadata": {
        "colab": {
          "base_uri": "https://localhost:8080/"
        },
        "id": "9CmTpOOvxlnT",
        "outputId": "3357cba0-a01b-47a4-eb8a-04b14f4d17e9"
      },
      "execution_count": null,
      "outputs": [
        {
          "output_type": "execute_result",
          "data": {
            "text/plain": [
              "NE     1354\n",
              "NNE    1290\n",
              "S      1247\n",
              "E      1141\n",
              "SSE    1106\n",
              "SE     1102\n",
              "WSW    1072\n",
              "W      1072\n",
              "ESE    1062\n",
              "SSW    1050\n",
              "N      1035\n",
              "WNW    1026\n",
              "SW     1004\n",
              "ENE     924\n",
              "NW      764\n",
              "NNW     645\n",
              "Name: WindDir3pm, dtype: int64"
            ]
          },
          "metadata": {},
          "execution_count": 37
        }
      ]
    },
    {
      "cell_type": "code",
      "source": [
        "pd.get_dummies(oversampled['WindDir3pm'], drop_first=True, dummy_na=True).head(n=2)"
      ],
      "metadata": {
        "colab": {
          "base_uri": "https://localhost:8080/"
        },
        "id": "YOxpUCQ9xpqc",
        "outputId": "e0bbed7d-8d40-46c3-b629-e69c03c3b09f"
      },
      "execution_count": null,
      "outputs": [
        {
          "output_type": "execute_result",
          "data": {
            "text/plain": [
              "   ENE  ESE  N  NE  NNE  NNW  NW  S  SE  SSE  SSW  SW  W  WNW  WSW  NaN\n",
              "0    0    0  0   0    0    0   0  0   0    0    0   0  0    1    0    0\n",
              "1    0    0  0   0    0    0   0  0   0    0    0   0  0    0    1    0"
            ],
            "text/html": [
              "\n",
              "  <div id=\"df-44eac9ce-40b1-42eb-b0b7-692eb382f32d\">\n",
              "    <div class=\"colab-df-container\">\n",
              "      <div>\n",
              "<style scoped>\n",
              "    .dataframe tbody tr th:only-of-type {\n",
              "        vertical-align: middle;\n",
              "    }\n",
              "\n",
              "    .dataframe tbody tr th {\n",
              "        vertical-align: top;\n",
              "    }\n",
              "\n",
              "    .dataframe thead th {\n",
              "        text-align: right;\n",
              "    }\n",
              "</style>\n",
              "<table border=\"1\" class=\"dataframe\">\n",
              "  <thead>\n",
              "    <tr style=\"text-align: right;\">\n",
              "      <th></th>\n",
              "      <th>ENE</th>\n",
              "      <th>ESE</th>\n",
              "      <th>N</th>\n",
              "      <th>NE</th>\n",
              "      <th>NNE</th>\n",
              "      <th>NNW</th>\n",
              "      <th>NW</th>\n",
              "      <th>S</th>\n",
              "      <th>SE</th>\n",
              "      <th>SSE</th>\n",
              "      <th>SSW</th>\n",
              "      <th>SW</th>\n",
              "      <th>W</th>\n",
              "      <th>WNW</th>\n",
              "      <th>WSW</th>\n",
              "      <th>NaN</th>\n",
              "    </tr>\n",
              "  </thead>\n",
              "  <tbody>\n",
              "    <tr>\n",
              "      <th>0</th>\n",
              "      <td>0</td>\n",
              "      <td>0</td>\n",
              "      <td>0</td>\n",
              "      <td>0</td>\n",
              "      <td>0</td>\n",
              "      <td>0</td>\n",
              "      <td>0</td>\n",
              "      <td>0</td>\n",
              "      <td>0</td>\n",
              "      <td>0</td>\n",
              "      <td>0</td>\n",
              "      <td>0</td>\n",
              "      <td>0</td>\n",
              "      <td>1</td>\n",
              "      <td>0</td>\n",
              "      <td>0</td>\n",
              "    </tr>\n",
              "    <tr>\n",
              "      <th>1</th>\n",
              "      <td>0</td>\n",
              "      <td>0</td>\n",
              "      <td>0</td>\n",
              "      <td>0</td>\n",
              "      <td>0</td>\n",
              "      <td>0</td>\n",
              "      <td>0</td>\n",
              "      <td>0</td>\n",
              "      <td>0</td>\n",
              "      <td>0</td>\n",
              "      <td>0</td>\n",
              "      <td>0</td>\n",
              "      <td>0</td>\n",
              "      <td>0</td>\n",
              "      <td>1</td>\n",
              "      <td>0</td>\n",
              "    </tr>\n",
              "  </tbody>\n",
              "</table>\n",
              "</div>\n",
              "      <button class=\"colab-df-convert\" onclick=\"convertToInteractive('df-44eac9ce-40b1-42eb-b0b7-692eb382f32d')\"\n",
              "              title=\"Convert this dataframe to an interactive table.\"\n",
              "              style=\"display:none;\">\n",
              "        \n",
              "  <svg xmlns=\"http://www.w3.org/2000/svg\" height=\"24px\"viewBox=\"0 0 24 24\"\n",
              "       width=\"24px\">\n",
              "    <path d=\"M0 0h24v24H0V0z\" fill=\"none\"/>\n",
              "    <path d=\"M18.56 5.44l.94 2.06.94-2.06 2.06-.94-2.06-.94-.94-2.06-.94 2.06-2.06.94zm-11 1L8.5 8.5l.94-2.06 2.06-.94-2.06-.94L8.5 2.5l-.94 2.06-2.06.94zm10 10l.94 2.06.94-2.06 2.06-.94-2.06-.94-.94-2.06-.94 2.06-2.06.94z\"/><path d=\"M17.41 7.96l-1.37-1.37c-.4-.4-.92-.59-1.43-.59-.52 0-1.04.2-1.43.59L10.3 9.45l-7.72 7.72c-.78.78-.78 2.05 0 2.83L4 21.41c.39.39.9.59 1.41.59.51 0 1.02-.2 1.41-.59l7.78-7.78 2.81-2.81c.8-.78.8-2.07 0-2.86zM5.41 20L4 18.59l7.72-7.72 1.47 1.35L5.41 20z\"/>\n",
              "  </svg>\n",
              "      </button>\n",
              "      \n",
              "  <style>\n",
              "    .colab-df-container {\n",
              "      display:flex;\n",
              "      flex-wrap:wrap;\n",
              "      gap: 12px;\n",
              "    }\n",
              "\n",
              "    .colab-df-convert {\n",
              "      background-color: #E8F0FE;\n",
              "      border: none;\n",
              "      border-radius: 50%;\n",
              "      cursor: pointer;\n",
              "      display: none;\n",
              "      fill: #1967D2;\n",
              "      height: 32px;\n",
              "      padding: 0 0 0 0;\n",
              "      width: 32px;\n",
              "    }\n",
              "\n",
              "    .colab-df-convert:hover {\n",
              "      background-color: #E2EBFA;\n",
              "      box-shadow: 0px 1px 2px rgba(60, 64, 67, 0.3), 0px 1px 3px 1px rgba(60, 64, 67, 0.15);\n",
              "      fill: #174EA6;\n",
              "    }\n",
              "\n",
              "    [theme=dark] .colab-df-convert {\n",
              "      background-color: #3B4455;\n",
              "      fill: #D2E3FC;\n",
              "    }\n",
              "\n",
              "    [theme=dark] .colab-df-convert:hover {\n",
              "      background-color: #434B5C;\n",
              "      box-shadow: 0px 1px 3px 1px rgba(0, 0, 0, 0.15);\n",
              "      filter: drop-shadow(0px 1px 2px rgba(0, 0, 0, 0.3));\n",
              "      fill: #FFFFFF;\n",
              "    }\n",
              "  </style>\n",
              "\n",
              "      <script>\n",
              "        const buttonEl =\n",
              "          document.querySelector('#df-44eac9ce-40b1-42eb-b0b7-692eb382f32d button.colab-df-convert');\n",
              "        buttonEl.style.display =\n",
              "          google.colab.kernel.accessAllowed ? 'block' : 'none';\n",
              "\n",
              "        async function convertToInteractive(key) {\n",
              "          const element = document.querySelector('#df-44eac9ce-40b1-42eb-b0b7-692eb382f32d');\n",
              "          const dataTable =\n",
              "            await google.colab.kernel.invokeFunction('convertToInteractive',\n",
              "                                                     [key], {});\n",
              "          if (!dataTable) return;\n",
              "\n",
              "          const docLinkHtml = 'Like what you see? Visit the ' +\n",
              "            '<a target=\"_blank\" href=https://colab.research.google.com/notebooks/data_table.ipynb>data table notebook</a>'\n",
              "            + ' to learn more about interactive tables.';\n",
              "          element.innerHTML = '';\n",
              "          dataTable['output_type'] = 'display_data';\n",
              "          await google.colab.output.renderOutput(dataTable, element);\n",
              "          const docLink = document.createElement('div');\n",
              "          docLink.innerHTML = docLinkHtml;\n",
              "          element.appendChild(docLink);\n",
              "        }\n",
              "      </script>\n",
              "    </div>\n",
              "  </div>\n",
              "  "
            ]
          },
          "metadata": {},
          "execution_count": 39
        }
      ]
    },
    {
      "cell_type": "code",
      "source": [
        "pd.get_dummies(oversampled['WindDir3pm'], drop_first=True, dummy_na=True).sum(axis=0)"
      ],
      "metadata": {
        "colab": {
          "base_uri": "https://localhost:8080/"
        },
        "id": "sPh1FWIpz0LQ",
        "outputId": "b9db9eca-a102-4f3d-debc-efabf001edea"
      },
      "execution_count": null,
      "outputs": [
        {
          "output_type": "execute_result",
          "data": {
            "text/plain": [
              "ENE     924\n",
              "ESE    1062\n",
              "N      1035\n",
              "NE     1354\n",
              "NNE    1290\n",
              "NNW     645\n",
              "NW      764\n",
              "S      1247\n",
              "SE     1102\n",
              "SSE    1106\n",
              "SSW    1050\n",
              "SW     1004\n",
              "W      1072\n",
              "WNW    1026\n",
              "WSW    1072\n",
              "NaN     220\n",
              "dtype: int64"
            ]
          },
          "metadata": {},
          "execution_count": 46
        }
      ]
    },
    {
      "cell_type": "markdown",
      "source": [
        "###### **RainToday**"
      ],
      "metadata": {
        "id": "2rIpZ3FzxvwJ"
      }
    },
    {
      "cell_type": "markdown",
      "source": [
        "**Observations**\n",
        "\n",
        "> * RainToday has 3 labels\n",
        "> * Lets find a way to remove the labels\n",
        "\n",
        "**What can be done ?**\n",
        "> * let's do One Hot Encoding of Location variable, \n",
        "> * Get k-1 dummy variables after One Hot Encoding,\n",
        "> * Add a column for nan\n",
        "> * Preview the dataset"
      ],
      "metadata": {
        "id": "-zDs7LTpx0ho"
      }
    },
    {
      "cell_type": "code",
      "source": [
        "oversampled['RainToday'].value_counts()"
      ],
      "metadata": {
        "colab": {
          "base_uri": "https://localhost:8080/"
        },
        "id": "KvFMlZQYyPF2",
        "outputId": "926c36c8-fffc-484c-a0c5-30ae8505cffb"
      },
      "execution_count": null,
      "outputs": [
        {
          "output_type": "execute_result",
          "data": {
            "text/plain": [
              "No     11960\n",
              "Yes     5006\n",
              "Name: RainToday, dtype: int64"
            ]
          },
          "metadata": {},
          "execution_count": 40
        }
      ]
    },
    {
      "cell_type": "code",
      "source": [
        "oversampled['RainToday'].unique()"
      ],
      "metadata": {
        "colab": {
          "base_uri": "https://localhost:8080/"
        },
        "id": "oPMiZkeIyS3E",
        "outputId": "419d2a59-b715-4d24-9fbf-63d82a2bdddf"
      },
      "execution_count": null,
      "outputs": [
        {
          "output_type": "execute_result",
          "data": {
            "text/plain": [
              "array(['No', 'Yes', nan], dtype=object)"
            ]
          },
          "metadata": {},
          "execution_count": 43
        }
      ]
    },
    {
      "cell_type": "code",
      "source": [
        "pd.get_dummies(oversampled['RainToday'], drop_first=True, dummy_na=True).head(n=2)"
      ],
      "metadata": {
        "colab": {
          "base_uri": "https://localhost:8080/"
        },
        "id": "d1qDxxhwygti",
        "outputId": "2cd5196b-3431-4a0a-9a4f-4c5088b67771"
      },
      "execution_count": null,
      "outputs": [
        {
          "output_type": "execute_result",
          "data": {
            "text/plain": [
              "   Yes  NaN\n",
              "0    0    0\n",
              "1    0    0"
            ],
            "text/html": [
              "\n",
              "  <div id=\"df-9bc5c55c-c337-4152-844c-0387cbb35357\">\n",
              "    <div class=\"colab-df-container\">\n",
              "      <div>\n",
              "<style scoped>\n",
              "    .dataframe tbody tr th:only-of-type {\n",
              "        vertical-align: middle;\n",
              "    }\n",
              "\n",
              "    .dataframe tbody tr th {\n",
              "        vertical-align: top;\n",
              "    }\n",
              "\n",
              "    .dataframe thead th {\n",
              "        text-align: right;\n",
              "    }\n",
              "</style>\n",
              "<table border=\"1\" class=\"dataframe\">\n",
              "  <thead>\n",
              "    <tr style=\"text-align: right;\">\n",
              "      <th></th>\n",
              "      <th>Yes</th>\n",
              "      <th>NaN</th>\n",
              "    </tr>\n",
              "  </thead>\n",
              "  <tbody>\n",
              "    <tr>\n",
              "      <th>0</th>\n",
              "      <td>0</td>\n",
              "      <td>0</td>\n",
              "    </tr>\n",
              "    <tr>\n",
              "      <th>1</th>\n",
              "      <td>0</td>\n",
              "      <td>0</td>\n",
              "    </tr>\n",
              "  </tbody>\n",
              "</table>\n",
              "</div>\n",
              "      <button class=\"colab-df-convert\" onclick=\"convertToInteractive('df-9bc5c55c-c337-4152-844c-0387cbb35357')\"\n",
              "              title=\"Convert this dataframe to an interactive table.\"\n",
              "              style=\"display:none;\">\n",
              "        \n",
              "  <svg xmlns=\"http://www.w3.org/2000/svg\" height=\"24px\"viewBox=\"0 0 24 24\"\n",
              "       width=\"24px\">\n",
              "    <path d=\"M0 0h24v24H0V0z\" fill=\"none\"/>\n",
              "    <path d=\"M18.56 5.44l.94 2.06.94-2.06 2.06-.94-2.06-.94-.94-2.06-.94 2.06-2.06.94zm-11 1L8.5 8.5l.94-2.06 2.06-.94-2.06-.94L8.5 2.5l-.94 2.06-2.06.94zm10 10l.94 2.06.94-2.06 2.06-.94-2.06-.94-.94-2.06-.94 2.06-2.06.94z\"/><path d=\"M17.41 7.96l-1.37-1.37c-.4-.4-.92-.59-1.43-.59-.52 0-1.04.2-1.43.59L10.3 9.45l-7.72 7.72c-.78.78-.78 2.05 0 2.83L4 21.41c.39.39.9.59 1.41.59.51 0 1.02-.2 1.41-.59l7.78-7.78 2.81-2.81c.8-.78.8-2.07 0-2.86zM5.41 20L4 18.59l7.72-7.72 1.47 1.35L5.41 20z\"/>\n",
              "  </svg>\n",
              "      </button>\n",
              "      \n",
              "  <style>\n",
              "    .colab-df-container {\n",
              "      display:flex;\n",
              "      flex-wrap:wrap;\n",
              "      gap: 12px;\n",
              "    }\n",
              "\n",
              "    .colab-df-convert {\n",
              "      background-color: #E8F0FE;\n",
              "      border: none;\n",
              "      border-radius: 50%;\n",
              "      cursor: pointer;\n",
              "      display: none;\n",
              "      fill: #1967D2;\n",
              "      height: 32px;\n",
              "      padding: 0 0 0 0;\n",
              "      width: 32px;\n",
              "    }\n",
              "\n",
              "    .colab-df-convert:hover {\n",
              "      background-color: #E2EBFA;\n",
              "      box-shadow: 0px 1px 2px rgba(60, 64, 67, 0.3), 0px 1px 3px 1px rgba(60, 64, 67, 0.15);\n",
              "      fill: #174EA6;\n",
              "    }\n",
              "\n",
              "    [theme=dark] .colab-df-convert {\n",
              "      background-color: #3B4455;\n",
              "      fill: #D2E3FC;\n",
              "    }\n",
              "\n",
              "    [theme=dark] .colab-df-convert:hover {\n",
              "      background-color: #434B5C;\n",
              "      box-shadow: 0px 1px 3px 1px rgba(0, 0, 0, 0.15);\n",
              "      filter: drop-shadow(0px 1px 2px rgba(0, 0, 0, 0.3));\n",
              "      fill: #FFFFFF;\n",
              "    }\n",
              "  </style>\n",
              "\n",
              "      <script>\n",
              "        const buttonEl =\n",
              "          document.querySelector('#df-9bc5c55c-c337-4152-844c-0387cbb35357 button.colab-df-convert');\n",
              "        buttonEl.style.display =\n",
              "          google.colab.kernel.accessAllowed ? 'block' : 'none';\n",
              "\n",
              "        async function convertToInteractive(key) {\n",
              "          const element = document.querySelector('#df-9bc5c55c-c337-4152-844c-0387cbb35357');\n",
              "          const dataTable =\n",
              "            await google.colab.kernel.invokeFunction('convertToInteractive',\n",
              "                                                     [key], {});\n",
              "          if (!dataTable) return;\n",
              "\n",
              "          const docLinkHtml = 'Like what you see? Visit the ' +\n",
              "            '<a target=\"_blank\" href=https://colab.research.google.com/notebooks/data_table.ipynb>data table notebook</a>'\n",
              "            + ' to learn more about interactive tables.';\n",
              "          element.innerHTML = '';\n",
              "          dataTable['output_type'] = 'display_data';\n",
              "          await google.colab.output.renderOutput(dataTable, element);\n",
              "          const docLink = document.createElement('div');\n",
              "          docLink.innerHTML = docLinkHtml;\n",
              "          element.appendChild(docLink);\n",
              "        }\n",
              "      </script>\n",
              "    </div>\n",
              "  </div>\n",
              "  "
            ]
          },
          "metadata": {},
          "execution_count": 44
        }
      ]
    },
    {
      "cell_type": "code",
      "source": [
        "pd.get_dummies(oversampled['RainToday'], drop_first=True, dummy_na=True).sum(axis=0)"
      ],
      "metadata": {
        "colab": {
          "base_uri": "https://localhost:8080/"
        },
        "id": "lxLIiKGJywZa",
        "outputId": "6b5aad13-8b26-46fd-f457-448239ea4c38"
      },
      "execution_count": null,
      "outputs": [
        {
          "output_type": "execute_result",
          "data": {
            "text/plain": [
              "Yes    5006\n",
              "NaN     148\n",
              "dtype: int64"
            ]
          },
          "metadata": {},
          "execution_count": 45
        }
      ]
    },
    {
      "cell_type": "markdown",
      "source": [
        "##### **Missing Numerical columns**"
      ],
      "metadata": {
        "id": "wvgSVRJi1Ahm"
      }
    },
    {
      "cell_type": "code",
      "source": [
        "# Previewing all categorical columns\n",
        "numerical = oversampled.select_dtypes(include=['float64','int64']).columns\n",
        "numerical\n",
        "print('There are {} numerical variables\\n'.format(len(numerical)))"
      ],
      "metadata": {
        "colab": {
          "base_uri": "https://localhost:8080/"
        },
        "id": "7GzCH5CI06k1",
        "outputId": "eaced9ec-66a0-4399-fb50-6d5666e826e6"
      },
      "execution_count": null,
      "outputs": [
        {
          "output_type": "stream",
          "name": "stdout",
          "text": [
            "There are 20 numerical variables\n",
            "\n"
          ]
        }
      ]
    },
    {
      "cell_type": "markdown",
      "source": [
        "**Observations**\n",
        "\n",
        "> We can deduce that there are 20 numerical variables in the dataset.\n",
        "\n",
        "**What can be done ?**\n",
        "\n",
        "> * Exploration of numerical variables"
      ],
      "metadata": {
        "id": "NczY3qek4B4e"
      }
    },
    {
      "cell_type": "code",
      "source": [
        "oversampled[numerical].isnull().sum()"
      ],
      "metadata": {
        "colab": {
          "base_uri": "https://localhost:8080/"
        },
        "id": "HPWfpLMO2bbD",
        "outputId": "539e6443-bf11-4f2c-acb6-caec022e6a64"
      },
      "execution_count": null,
      "outputs": [
        {
          "output_type": "execute_result",
          "data": {
            "text/plain": [
              "MinTemp             42\n",
              "MaxTemp             12\n",
              "Rainfall           148\n",
              "Evaporation      10197\n",
              "Sunshine         13467\n",
              "WindGustSpeed      156\n",
              "WindSpeed9am        71\n",
              "WindSpeed3pm        77\n",
              "Humidity9am        240\n",
              "Humidity3pm        249\n",
              "Pressure9am        281\n",
              "Pressure3pm        287\n",
              "Cloud9am          7380\n",
              "Cloud3pm          7072\n",
              "Temp9am             44\n",
              "Temp3pm             57\n",
              "RainTomorrow         0\n",
              "Year                 0\n",
              "Month                0\n",
              "Day                  0\n",
              "dtype: int64"
            ]
          },
          "metadata": {},
          "execution_count": 64
        }
      ]
    },
    {
      "cell_type": "markdown",
      "source": [
        "**Observations**\n",
        "\n",
        "> * Let's check for outliers in the numerical variables, because of the suspision of so many missing data's in each columns.\n",
        ">\n",
        "> check the link to know more about outliers [About Outliers](https://medium.com/@michealedekin/what-is-an-outlier-9c0526b4bce5)\n",
        "\n",
        "**What to do next ?**\n",
        "> * Use statistical method to view outliers\n",
        "> * Check if they are normal or skewed distribution\n",
        "> * Normal distribution == Extreme value analysis\n",
        "> * Skewed distribution == IQR (Interquatile Range)"
      ],
      "metadata": {
        "id": "t9HY6KF3-Lyq"
      }
    },
    {
      "cell_type": "code",
      "source": [
        "print(round(oversampled[numerical].describe()),2)"
      ],
      "metadata": {
        "colab": {
          "base_uri": "https://localhost:8080/"
        },
        "id": "SU9IkXDUBalZ",
        "outputId": "bb207473-afff-4350-807c-77b331ad1204"
      },
      "execution_count": null,
      "outputs": [
        {
          "output_type": "stream",
          "name": "stdout",
          "text": [
            "       MinTemp  MaxTemp  Rainfall  Evaporation  Sunshine  WindGustSpeed  \\\n",
            "count  17072.0  17102.0   16966.0       6917.0    3647.0        16958.0   \n",
            "mean      12.0     23.0       4.0          5.0       6.0           37.0   \n",
            "std        6.0      7.0      13.0          4.0       4.0           14.0   \n",
            "min       -3.0      7.0       0.0          0.0       0.0            7.0   \n",
            "25%        8.0     18.0       0.0          2.0       2.0           28.0   \n",
            "50%       13.0     23.0       0.0          4.0       7.0           35.0   \n",
            "75%       17.0     28.0       2.0          7.0      10.0           44.0   \n",
            "max       30.0     47.0     371.0         86.0      14.0          107.0   \n",
            "\n",
            "       WindSpeed9am  WindSpeed3pm  Humidity9am  Humidity3pm  Pressure9am  \\\n",
            "count       17043.0       17037.0      16874.0      16865.0      16833.0   \n",
            "mean           12.0          16.0         73.0         55.0       1017.0   \n",
            "std             8.0           8.0         20.0         23.0          7.0   \n",
            "min             0.0           0.0          5.0          1.0        990.0   \n",
            "25%             6.0          11.0         60.0         38.0       1013.0   \n",
            "50%            11.0          15.0         75.0         55.0       1017.0   \n",
            "75%            17.0          20.0         89.0         72.0       1022.0   \n",
            "max            48.0          56.0        100.0        100.0       1040.0   \n",
            "\n",
            "       Pressure3pm  Cloud9am  Cloud3pm  Temp9am  Temp3pm  RainTomorrow  \\\n",
            "count      16827.0    9734.0   10042.0  17070.0  17057.0       17114.0   \n",
            "mean        1015.0       5.0       5.0     17.0     22.0           0.0   \n",
            "std            7.0       3.0       3.0      6.0      7.0           1.0   \n",
            "min          983.0       0.0       0.0      0.0      6.0           0.0   \n",
            "25%         1010.0       2.0       2.0     12.0     17.0           0.0   \n",
            "50%         1015.0       7.0       6.0     17.0     21.0           0.0   \n",
            "75%         1020.0       8.0       8.0     21.0     26.0           1.0   \n",
            "max         1037.0       8.0       8.0     38.0     45.0           1.0   \n",
            "\n",
            "          Year    Month      Day  \n",
            "count  17114.0  17114.0  17114.0  \n",
            "mean    2012.0      6.0      6.0  \n",
            "std        2.0      3.0      3.0  \n",
            "min     2008.0      1.0      1.0  \n",
            "25%     2010.0      3.0      3.0  \n",
            "50%     2012.0      6.0      6.0  \n",
            "75%     2014.0      9.0      9.0  \n",
            "max     2017.0     12.0     12.0   2\n"
          ]
        }
      ]
    },
    {
      "cell_type": "markdown",
      "source": [
        "**Observations**\n",
        "\n",
        "> On closer inspection, i found out that \n",
        ">\n",
        ">```\n",
        "Rainfall, Evaporation, WindGustSpeed, WindSpeed9am, WindSpeed3pm\n",
        ">```\n",
        "> all contains outliers.\n",
        "\n",
        "**What to do?**\n",
        "\n",
        "> * Let's further analyse these columns with a boxplot"
      ],
      "metadata": {
        "id": "2MmxJ5-bCYjA"
      }
    },
    {
      "cell_type": "code",
      "source": [
        "\n",
        "fig = oversampled.boxplot(column='WindGustSpeed')\n",
        "fig.set_title('')\n",
        "fig.set_ylabel('WindGustSpeed')"
      ],
      "metadata": {
        "colab": {
          "base_uri": "https://localhost:8080/",
          "height": 283
        },
        "id": "SCAERS3oFPQ4",
        "outputId": "e3c71d34-d4c4-4d8d-fb70-653e5cb1e674"
      },
      "execution_count": null,
      "outputs": [
        {
          "output_type": "execute_result",
          "data": {
            "text/plain": [
              "Text(0, 0.5, 'WindGustSpeed')"
            ]
          },
          "metadata": {},
          "execution_count": 87
        },
        {
          "output_type": "display_data",
          "data": {
            "text/plain": [
              "<Figure size 432x288 with 1 Axes>"
            ],
            "image/png": "[encoded data removed]"
          },
          "metadata": {
            "needs_background": "light"
          }
        }
      ]
    },
    {
      "cell_type": "code",
      "source": [
        "# draw boxplots to visualize outliers\n",
        "\n",
        "plt.figure(figsize=(15,10))\n",
        "\n",
        "\n",
        "plt.subplot(2, 2, 1)\n",
        "fig = oversampled.boxplot(column='Rainfall')\n",
        "fig.set_title('')\n",
        "fig.set_ylabel('Rainfall')\n",
        "\n",
        "\n",
        "plt.subplot(2, 2, 2)\n",
        "fig = oversampled.boxplot(column='Evaporation')\n",
        "fig.set_title('')\n",
        "fig.set_ylabel('Evaporation')\n",
        "\n",
        "\n",
        "plt.subplot(2, 2, 3)\n",
        "fig = oversampled.boxplot(column='WindSpeed9am')\n",
        "fig.set_title('')\n",
        "fig.set_ylabel('WindSpeed9am')\n",
        "\n",
        "\n",
        "plt.subplot(2, 2, 4)\n",
        "fig = oversampled.boxplot(column='WindSpeed3pm')\n",
        "fig.set_title('')\n",
        "fig.set_ylabel('WindSpeed3pm')\n"
      ],
      "metadata": {
        "colab": {
          "base_uri": "https://localhost:8080/",
          "height": 610
        },
        "id": "r7wj5-fhDIzo",
        "outputId": "7773d409-5c08-4677-bb1c-e4eb1f6aa8cb"
      },
      "execution_count": null,
      "outputs": [
        {
          "output_type": "execute_result",
          "data": {
            "text/plain": [
              "Text(0, 0.5, 'WindSpeed3pm')"
            ]
          },
          "metadata": {},
          "execution_count": 88
        },
        {
          "output_type": "display_data",
          "data": {
            "text/plain": [
              "<Figure size 1080x720 with 4 Axes>"
            ],
            "image/png": "[encoded data removed]"
          },
          "metadata": {
            "needs_background": "light"
          }
        }
      ]
    },
    {
      "cell_type": "markdown",
      "source": [
        ">> * We can see there are outliers in the above plots\n",
        ">\n",
        "> * Now let's check if they are skewed or normal"
      ],
      "metadata": {
        "id": "O4QrTaOdKFKo"
      }
    },
    {
      "cell_type": "code",
      "source": [
        "# plot histogram to check distribution\n",
        "\n",
        "plt.figure(figsize=(15,10), sharey=True)\n",
        "\n",
        "\n",
        "plt.subplot(2, 2, 1)\n",
        "fig = oversampled.Rainfall.hist(bins=10)\n",
        "fig.set_xlabel('Rainfall')\n",
        "fig.set_ylabel('RainTomorrow')\n",
        "\n",
        "\n",
        "plt.subplot(2, 2, 2)\n",
        "fig = oversampled.Evaporation.hist(bins=10)\n",
        "fig.set_xlabel('Evaporation')\n",
        "fig.set_ylabel('RainTomorrow')\n",
        "\n",
        "\n",
        "plt.subplot(2, 2, 3)\n",
        "fig = oversampled.WindSpeed9am.hist(bins=10)\n",
        "fig.set_xlabel('WindSpeed9am')\n",
        "fig.set_ylabel('RainTomorrow')\n",
        "\n",
        "\n",
        "plt.subplot(2, 2, 4)\n",
        "fig = oversampled.WindSpeed3pm.hist(bins=10)\n",
        "fig.set_xlabel('WindSpeed3pm')\n",
        "fig.set_ylabel('RainTomorrow')"
      ],
      "metadata": {
        "colab": {
          "base_uri": "https://localhost:8080/",
          "height": 396
        },
        "id": "f6PfBv9XKUde",
        "outputId": "f16fd809-cbe5-41d4-fa5a-bbbf31f52eea"
      },
      "execution_count": null,
      "outputs": [
        {
          "output_type": "error",
          "ename": "TypeError",
          "evalue": "ignored",
          "traceback": [
            "\u001b[0;31m---------------------------------------------------------------------------\u001b[0m",
            "\u001b[0;31mTypeError\u001b[0m                                 Traceback (most recent call last)",
            "\u001b[0;32m<ipython-input-90-11f550d5fcc8>\u001b[0m in \u001b[0;36m<module>\u001b[0;34m()\u001b[0m\n\u001b[1;32m      1\u001b[0m \u001b[0;31m# plot histogram to check distribution\u001b[0m\u001b[0;34m\u001b[0m\u001b[0;34m\u001b[0m\u001b[0;34m\u001b[0m\u001b[0m\n\u001b[1;32m      2\u001b[0m \u001b[0;34m\u001b[0m\u001b[0m\n\u001b[0;32m----> 3\u001b[0;31m \u001b[0mplt\u001b[0m\u001b[0;34m.\u001b[0m\u001b[0mfigure\u001b[0m\u001b[0;34m(\u001b[0m\u001b[0mfigsize\u001b[0m\u001b[0;34m=\u001b[0m\u001b[0;34m(\u001b[0m\u001b[0;36m15\u001b[0m\u001b[0;34m,\u001b[0m\u001b[0;36m10\u001b[0m\u001b[0;34m)\u001b[0m\u001b[0;34m,\u001b[0m \u001b[0msharey\u001b[0m\u001b[0;34m=\u001b[0m\u001b[0;32mTrue\u001b[0m\u001b[0;34m)\u001b[0m\u001b[0;34m\u001b[0m\u001b[0;34m\u001b[0m\u001b[0m\n\u001b[0m\u001b[1;32m      4\u001b[0m \u001b[0;34m\u001b[0m\u001b[0m\n\u001b[1;32m      5\u001b[0m \u001b[0;34m\u001b[0m\u001b[0m\n",
            "\u001b[0;32m/usr/local/lib/python3.7/dist-packages/matplotlib/pyplot.py\u001b[0m in \u001b[0;36mfigure\u001b[0;34m(num, figsize, dpi, facecolor, edgecolor, frameon, FigureClass, clear, **kwargs)\u001b[0m\n\u001b[1;32m    544\u001b[0m                                         \u001b[0mframeon\u001b[0m\u001b[0;34m=\u001b[0m\u001b[0mframeon\u001b[0m\u001b[0;34m,\u001b[0m\u001b[0;34m\u001b[0m\u001b[0;34m\u001b[0m\u001b[0m\n\u001b[1;32m    545\u001b[0m                                         \u001b[0mFigureClass\u001b[0m\u001b[0;34m=\u001b[0m\u001b[0mFigureClass\u001b[0m\u001b[0;34m,\u001b[0m\u001b[0;34m\u001b[0m\u001b[0;34m\u001b[0m\u001b[0m\n\u001b[0;32m--> 546\u001b[0;31m                                         **kwargs)\n\u001b[0m\u001b[1;32m    547\u001b[0m \u001b[0;34m\u001b[0m\u001b[0m\n\u001b[1;32m    548\u001b[0m         \u001b[0;32mif\u001b[0m \u001b[0mfigLabel\u001b[0m\u001b[0;34m:\u001b[0m\u001b[0;34m\u001b[0m\u001b[0;34m\u001b[0m\u001b[0m\n",
            "\u001b[0;32m/usr/local/lib/python3.7/dist-packages/matplotlib/backend_bases.py\u001b[0m in \u001b[0;36mnew_figure_manager\u001b[0;34m(cls, num, *args, **kwargs)\u001b[0m\n\u001b[1;32m   3355\u001b[0m         \u001b[0;32mfrom\u001b[0m \u001b[0mmatplotlib\u001b[0m\u001b[0;34m.\u001b[0m\u001b[0mfigure\u001b[0m \u001b[0;32mimport\u001b[0m \u001b[0mFigure\u001b[0m\u001b[0;34m\u001b[0m\u001b[0;34m\u001b[0m\u001b[0m\n\u001b[1;32m   3356\u001b[0m         \u001b[0mfig_cls\u001b[0m \u001b[0;34m=\u001b[0m \u001b[0mkwargs\u001b[0m\u001b[0;34m.\u001b[0m\u001b[0mpop\u001b[0m\u001b[0;34m(\u001b[0m\u001b[0;34m'FigureClass'\u001b[0m\u001b[0;34m,\u001b[0m \u001b[0mFigure\u001b[0m\u001b[0;34m)\u001b[0m\u001b[0;34m\u001b[0m\u001b[0;34m\u001b[0m\u001b[0m\n\u001b[0;32m-> 3357\u001b[0;31m         \u001b[0mfig\u001b[0m \u001b[0;34m=\u001b[0m \u001b[0mfig_cls\u001b[0m\u001b[0;34m(\u001b[0m\u001b[0;34m*\u001b[0m\u001b[0margs\u001b[0m\u001b[0;34m,\u001b[0m \u001b[0;34m**\u001b[0m\u001b[0mkwargs\u001b[0m\u001b[0;34m)\u001b[0m\u001b[0;34m\u001b[0m\u001b[0;34m\u001b[0m\u001b[0m\n\u001b[0m\u001b[1;32m   3358\u001b[0m         \u001b[0;32mreturn\u001b[0m \u001b[0mcls\u001b[0m\u001b[0;34m.\u001b[0m\u001b[0mnew_figure_manager_given_figure\u001b[0m\u001b[0;34m(\u001b[0m\u001b[0mnum\u001b[0m\u001b[0;34m,\u001b[0m \u001b[0mfig\u001b[0m\u001b[0;34m)\u001b[0m\u001b[0;34m\u001b[0m\u001b[0;34m\u001b[0m\u001b[0m\n\u001b[1;32m   3359\u001b[0m \u001b[0;34m\u001b[0m\u001b[0m\n",
            "\u001b[0;31mTypeError\u001b[0m: __init__() got an unexpected keyword argument 'sharey'"
          ]
        }
      ]
    },
    {
      "cell_type": "markdown",
      "source": [
        "> * Now we can see that all columns are skewed i.e right sided skewed so we would use IQR"
      ],
      "metadata": {
        "id": "IxqXRDILogp5"
      }
    },
    {
      "cell_type": "code",
      "source": [
        "# # Input categorical variable with fillna() and Mode\n",
        "# oversampled['Date'] = oversampled['Date'].fillna(oversampled['Date'].mode()[0])\n",
        "# oversampled['Location'] = oversampled['Location'].fillna(oversampled['Location'].mode()[0])\n",
        "# oversampled['WindGustDir'] = oversampled['WindGustDir'].fillna(oversampled['WindGustDir'].mode()[0])\n",
        "# oversampled['WindDir9am'] = oversampled['WindDir9am'].fillna(oversampled['WindDir9am'].mode()[0])\n",
        "# oversampled['WindDir3pm'] = oversampled['WindDir3pm'].fillna(oversampled['WindDir3pm'].mode()[0])"
      ],
      "metadata": {
        "execution": {
          "iopub.status.busy": "2022-06-17T12:24:48.566616Z",
          "iopub.execute_input": "2022-06-17T12:24:48.567680Z",
          "iopub.status.idle": "2022-06-17T12:24:48.864768Z",
          "shell.execute_reply.started": "2022-06-17T12:24:48.567635Z",
          "shell.execute_reply": "2022-06-17T12:24:48.863917Z"
        },
        "trusted": true,
        "id": "zf6QPLzpQgS-"
      },
      "execution_count": null,
      "outputs": []
    },
    {
      "cell_type": "code",
      "source": [
        "from sklearn.preprocessing import LabelEncoder\n",
        "lencoders = {}\n",
        "for col in oversampled.select_dtypes(include=['object']).columns:\n",
        "    lencoders[col] = LabelEncoder()\n",
        "    oversampled[col] = lencoders[col].fit_transform(oversampled[col])"
      ],
      "metadata": {
        "execution": {
          "iopub.status.busy": "2022-06-17T12:24:50.395610Z",
          "iopub.execute_input": "2022-06-17T12:24:50.396008Z",
          "iopub.status.idle": "2022-06-17T12:24:50.810061Z",
          "shell.execute_reply.started": "2022-06-17T12:24:50.395974Z",
          "shell.execute_reply": "2022-06-17T12:24:50.808864Z"
        },
        "trusted": true,
        "id": "vAT89rLvQgS_"
      },
      "execution_count": null,
      "outputs": []
    },
    {
      "cell_type": "code",
      "source": [
        "import warnings\n",
        "warnings.filterwarnings('ignore')\n",
        "from sklearn.experimental import enable_iterative_imputer\n",
        "from sklearn.impute import IterativeImputer\n",
        "MiceImputed = oversampled.copy(deep=True) \n",
        "mice_imputer = IterativeImputer()\n",
        "MiceImputed.iloc[:, :] = mice_imputer.fit_transform(oversampled)"
      ],
      "metadata": {
        "execution": {
          "iopub.status.busy": "2022-06-17T12:24:56.187641Z",
          "iopub.execute_input": "2022-06-17T12:24:56.188031Z",
          "iopub.status.idle": "2022-06-17T12:26:29.169342Z",
          "shell.execute_reply.started": "2022-06-17T12:24:56.187998Z",
          "shell.execute_reply": "2022-06-17T12:26:29.168250Z"
        },
        "trusted": true,
        "id": "-wM1jy4EQgTA"
      },
      "execution_count": null,
      "outputs": []
    },
    {
      "cell_type": "code",
      "source": [
        "# Detecting outliers with IQR\n",
        "Q1 = MiceImputed.quantile(0.25)\n",
        "Q3 = MiceImputed.quantile(0.75)\n",
        "IQR = Q3 - Q1\n",
        "print(IQR)"
      ],
      "metadata": {
        "execution": {
          "iopub.status.busy": "2022-06-17T12:26:29.171283Z",
          "iopub.execute_input": "2022-06-17T12:26:29.171720Z",
          "iopub.status.idle": "2022-06-17T12:26:29.370697Z",
          "shell.execute_reply.started": "2022-06-17T12:26:29.171686Z",
          "shell.execute_reply": "2022-06-17T12:26:29.369728Z"
        },
        "trusted": true,
        "id": "LncLFcQ5QgTB"
      },
      "execution_count": null,
      "outputs": []
    },
    {
      "cell_type": "code",
      "source": [
        "# Removing outliers from the dataset\n",
        "MiceImputed = MiceImputed[~((MiceImputed < (Q1 - 1.5 * IQR)) |(MiceImputed > (Q3 + 1.5 * IQR))).any(axis=1)]\n",
        "MiceImputed.shape"
      ],
      "metadata": {
        "execution": {
          "iopub.status.busy": "2022-06-17T12:26:29.372025Z",
          "iopub.execute_input": "2022-06-17T12:26:29.373180Z",
          "iopub.status.idle": "2022-06-17T12:26:29.451707Z",
          "shell.execute_reply.started": "2022-06-17T12:26:29.373115Z",
          "shell.execute_reply": "2022-06-17T12:26:29.449233Z"
        },
        "trusted": true,
        "id": "rbUh9HxvQgTC"
      },
      "execution_count": null,
      "outputs": []
    },
    {
      "cell_type": "code",
      "source": [
        "import numpy as np\n",
        "import matplotlib.pyplot as plt\n",
        "import seaborn as sns\n",
        "corr = MiceImputed.corr()\n",
        "mask = np.triu(np.ones_like(corr, dtype=np.bool))\n",
        "f, ax = plt.subplots(figsize=(20, 20))\n",
        "cmap = sns.diverging_palette(250, 25, as_cmap=True)\n",
        "sns.heatmap(corr, mask=mask, cmap=cmap, vmax=None, center=0,square=True, annot=True, linewidths=.5, cbar_kws={\"shrink\": .9})"
      ],
      "metadata": {
        "execution": {
          "iopub.status.busy": "2022-06-17T12:26:29.453959Z",
          "iopub.execute_input": "2022-06-17T12:26:29.454373Z",
          "iopub.status.idle": "2022-06-17T12:26:31.268052Z",
          "shell.execute_reply.started": "2022-06-17T12:26:29.454339Z",
          "shell.execute_reply": "2022-06-17T12:26:31.266934Z"
        },
        "trusted": true,
        "id": "Ub9cNrgsQgTD"
      },
      "execution_count": null,
      "outputs": []
    },
    {
      "cell_type": "code",
      "source": [
        "total = MiceImputed.isnull().sum().sort_values(ascending=False)\n",
        "percent = (MiceImputed.isnull().sum()/MiceImputed.isnull().count())\n",
        "missing = pd.concat([total, percent], axis = 1,keys=['Total','Percent'])\n",
        "missing"
      ],
      "metadata": {
        "execution": {
          "iopub.status.busy": "2022-06-17T12:26:31.269194Z",
          "iopub.execute_input": "2022-06-17T12:26:31.270164Z",
          "iopub.status.idle": "2022-06-17T12:26:31.317029Z",
          "shell.execute_reply.started": "2022-06-17T12:26:31.270089Z",
          "shell.execute_reply": "2022-06-17T12:26:31.316277Z"
        },
        "trusted": true,
        "id": "KMd-ky5CQgTD"
      },
      "execution_count": null,
      "outputs": []
    },
    {
      "cell_type": "code",
      "source": [
        "MiceImputed.columns.duplicated()"
      ],
      "metadata": {
        "execution": {
          "iopub.status.busy": "2022-06-17T12:33:46.512795Z",
          "iopub.execute_input": "2022-06-17T12:33:46.513190Z",
          "iopub.status.idle": "2022-06-17T12:33:46.519365Z",
          "shell.execute_reply.started": "2022-06-17T12:33:46.513159Z",
          "shell.execute_reply": "2022-06-17T12:33:46.518635Z"
        },
        "trusted": true,
        "id": "duKW4FhEQgTE"
      },
      "execution_count": null,
      "outputs": []
    },
    {
      "cell_type": "code",
      "source": [
        "sns.pairplot( data=MiceImputed, vars=('MaxTemp','MinTemp','Pressure9am','Pressure3pm', 'Temp9am', 'Temp3pm', 'Evaporation'), hue='RainTomorrow') "
      ],
      "metadata": {
        "execution": {
          "iopub.status.busy": "2022-06-17T12:35:59.224285Z",
          "iopub.execute_input": "2022-06-17T12:35:59.225382Z",
          "iopub.status.idle": "2022-06-17T12:36:07.168083Z",
          "shell.execute_reply.started": "2022-06-17T12:35:59.225338Z",
          "shell.execute_reply": "2022-06-17T12:36:07.166157Z"
        },
        "trusted": true,
        "id": "UGf0zmEKQgTF"
      },
      "execution_count": null,
      "outputs": []
    },
    {
      "cell_type": "code",
      "source": [
        "# Standardizing data\n",
        "from sklearn import preprocessing\n",
        "r_scaler = preprocessing.MinMaxScaler()\n",
        "r_scaler.fit(MiceImputed)\n",
        "modified_data = pd.DataFrame(r_scaler.transform(MiceImputed), index=MiceImputed.index, columns=MiceImputed.columns)"
      ],
      "metadata": {
        "execution": {
          "iopub.status.busy": "2022-06-17T13:01:55.956547Z",
          "iopub.execute_input": "2022-06-17T13:01:55.956980Z",
          "iopub.status.idle": "2022-06-17T13:01:56.050706Z",
          "shell.execute_reply.started": "2022-06-17T13:01:55.956944Z",
          "shell.execute_reply": "2022-06-17T13:01:56.049670Z"
        },
        "trusted": true,
        "id": "AfBgrVOyQgTF"
      },
      "execution_count": null,
      "outputs": []
    },
    {
      "cell_type": "code",
      "source": [
        "# Feature Importance using Filter Method (Chi-Square)\n",
        "from sklearn.feature_selection import SelectKBest, chi2\n",
        "X = modified_data.loc[:,modified_data.columns!='RainTomorrow']\n",
        "y = modified_data[['RainTomorrow']]\n",
        "selector = SelectKBest(chi2, k=10)\n",
        "selector.fit(X,y)\n",
        "X_new = selector.transform(X)\n",
        "print(X.columns[selector.get_support(indices=True)])"
      ],
      "metadata": {
        "execution": {
          "iopub.status.busy": "2022-06-17T13:12:10.509021Z",
          "iopub.execute_input": "2022-06-17T13:12:10.511737Z",
          "iopub.status.idle": "2022-06-17T13:12:10.661607Z",
          "shell.execute_reply.started": "2022-06-17T13:12:10.511660Z",
          "shell.execute_reply": "2022-06-17T13:12:10.660572Z"
        },
        "trusted": true,
        "id": "ZwQLcRQ2QgTG"
      },
      "execution_count": null,
      "outputs": []
    },
    {
      "cell_type": "code",
      "source": [
        "# Feature Importance using Wrapping Method (Random Forest)\n",
        "from sklearn.feature_selection import SelectFromModel\n",
        "from sklearn.ensemble import RandomForestClassifier as rf\n",
        "\n",
        "X = MiceImputed.drop('RainTomorrow', axis=1)\n",
        "y = MiceImputed['RainTomorrow']\n",
        "\n",
        "selector = SelectFromModel(rf(n_estimators=100, random_state=0))\n",
        "selector.fit(X,y)\n",
        "support = selector.get_support()\n",
        "features = X.loc[:,support].columns.tolist()\n",
        "print(features)\n",
        "print(rf(n_estimators=100, random_state=0).fit(X,y).feature_importances_)"
      ],
      "metadata": {
        "execution": {
          "iopub.status.busy": "2022-06-17T13:21:43.097663Z",
          "iopub.execute_input": "2022-06-17T13:21:43.098084Z",
          "iopub.status.idle": "2022-06-17T13:23:15.272634Z",
          "shell.execute_reply.started": "2022-06-17T13:21:43.098051Z",
          "shell.execute_reply": "2022-06-17T13:23:15.271621Z"
        },
        "trusted": true,
        "id": "nP4TymsNQgTG"
      },
      "execution_count": null,
      "outputs": []
    },
    {
      "cell_type": "code",
      "source": [
        "features = MiceImputed[['Location', 'MinTemp', 'MaxTemp', 'Rainfall', 'Evaporation', 'Sunshine', 'WindGustDir', 'WindGustSpeed', 'WindDir9am', 'WindDir3pm', 'WindSpeed9am', 'WindSpeed3pm', 'Humidity9am', \n",
        "                       'Humidity3pm', 'Pressure9am', 'Pressure3pm', 'Cloud9am', 'Cloud3pm', 'Temp9am', 'Temp3pm', \n",
        "                       'RainToday']]\n",
        "target = MiceImputed['RainTomorrow']\n",
        "\n",
        "# Split into test and train\n",
        "from sklearn.model_selection import train_test_split\n",
        "X_train, X_test, y_train, y_test = train_test_split(features, target, test_size=0.25, random_state=12345)\n",
        "\n",
        "#Normalize Features\n",
        "from sklearn.preprocessing import StandardScaler\n",
        "scaler = StandardScaler()\n",
        "X_train = scaler.fit_transform(X_train)\n",
        "X_test = scaler.fit_transform(X_test)"
      ],
      "metadata": {
        "execution": {
          "iopub.status.busy": "2022-06-17T13:34:14.598024Z",
          "iopub.execute_input": "2022-06-17T13:34:14.598948Z",
          "iopub.status.idle": "2022-06-17T13:34:14.738028Z",
          "shell.execute_reply.started": "2022-06-17T13:34:14.598897Z",
          "shell.execute_reply": "2022-06-17T13:34:14.736773Z"
        },
        "trusted": true,
        "id": "8zS82ogWQgTH"
      },
      "execution_count": null,
      "outputs": []
    },
    {
      "cell_type": "code",
      "source": [
        "def plot_roc_cur(fper, tper):  \n",
        "    plt.plot(fper, tper, color='orange', label='ROC')\n",
        "    plt.plot([0, 1], [0, 1], color='darkblue', linestyle='--')\n",
        "    plt.xlabel('False Positive Rate')\n",
        "    plt.ylabel('True Positive Rate')\n",
        "    plt.title('Receiver Operating Characteristic (ROC) Curve')\n",
        "    plt.legend()\n",
        "    plt.show()"
      ],
      "metadata": {
        "execution": {
          "iopub.status.busy": "2022-06-17T13:37:08.796500Z",
          "iopub.execute_input": "2022-06-17T13:37:08.796966Z",
          "iopub.status.idle": "2022-06-17T13:37:08.804025Z",
          "shell.execute_reply.started": "2022-06-17T13:37:08.796932Z",
          "shell.execute_reply": "2022-06-17T13:37:08.803018Z"
        },
        "trusted": true,
        "id": "QHuXD4J8QgTH"
      },
      "execution_count": null,
      "outputs": []
    },
    {
      "cell_type": "code",
      "source": [
        "import time\n",
        "from sklearn.metrics import accuracy_score, roc_auc_score, cohen_kappa_score, plot_confusion_matrix, roc_curve, classification_report\n",
        "def run_model(model, X_train, y_train, X_test, y_test, verbose=True):\n",
        "    t0=time.time()\n",
        "    if verbose == False:\n",
        "        model.fit(X_train,y_train, verbose=0)\n",
        "    else:\n",
        "        model.fit(X_train,y_train)\n",
        "    y_pred = model.predict(X_test)\n",
        "    accuracy = accuracy_score(y_test, y_pred)\n",
        "    roc_auc = roc_auc_score(y_test, y_pred) \n",
        "    coh_kap = cohen_kappa_score(y_test, y_pred)\n",
        "    time_taken = time.time()-t0\n",
        "    print(\"Accuracy = {}\".format(accuracy))\n",
        "    print(\"ROC Area under Curve = {}\".format(roc_auc))\n",
        "    print(\"Cohen's Kappa = {}\".format(coh_kap))\n",
        "    print(\"Time taken = {}\".format(time_taken))\n",
        "    print(classification_report(y_test,y_pred,digits=5))\n",
        "    \n",
        "    probs = model.predict_proba(X_test)  \n",
        "    probs = probs[:, 1]  \n",
        "    fper, tper, thresholds = roc_curve(y_test, probs) \n",
        "    plot_roc_cur(fper, tper)\n",
        "    \n",
        "    plot_confusion_matrix(model, X_test, y_test,cmap=plt.cm.Blues, normalize = 'all')\n",
        "    \n",
        "    return model, accuracy, roc_auc, coh_kap, time_taken"
      ],
      "metadata": {
        "execution": {
          "iopub.status.busy": "2022-06-17T14:00:48.901175Z",
          "iopub.execute_input": "2022-06-17T14:00:48.901738Z",
          "iopub.status.idle": "2022-06-17T14:00:48.913803Z",
          "shell.execute_reply.started": "2022-06-17T14:00:48.901700Z",
          "shell.execute_reply": "2022-06-17T14:00:48.912707Z"
        },
        "trusted": true,
        "id": "XYpDezoGQgTH"
      },
      "execution_count": null,
      "outputs": []
    },
    {
      "cell_type": "code",
      "source": [
        "# Logistic Regression\n",
        "from sklearn.linear_model import LogisticRegression\n",
        "\n",
        "params_lr = {'penalty': 'l1', 'solver':'liblinear'}\n",
        "\n",
        "model_lr = LogisticRegression(**params_lr)\n",
        "model_lr, accuracy_lr, roc_auc_lr, coh_kap_lr, tt_lr = run_model(model_lr, X_train, y_train, X_test, y_test)"
      ],
      "metadata": {
        "execution": {
          "iopub.status.busy": "2022-06-17T14:00:54.361770Z",
          "iopub.execute_input": "2022-06-17T14:00:54.362624Z",
          "iopub.status.idle": "2022-06-17T14:00:57.587454Z",
          "shell.execute_reply.started": "2022-06-17T14:00:54.362585Z",
          "shell.execute_reply": "2022-06-17T14:00:57.586445Z"
        },
        "trusted": true,
        "id": "6IHHeiRDQgTI"
      },
      "execution_count": null,
      "outputs": []
    },
    {
      "cell_type": "code",
      "source": [
        "# Decision Tree\n",
        "from sklearn.tree import DecisionTreeClassifier\n",
        "\n",
        "params_dt = {'max_depth': 16,\n",
        "            'max_features': 'sqrt'}\n",
        "\n",
        "model_dt = DecisionTreeClassifier(**params_dt)\n",
        "model_dt, accuracy_dt, rou_auc_dt, coh_kap_dt, tt_dt = run_model(model_dt, X_train, y_train, X_test, y_test)"
      ],
      "metadata": {
        "execution": {
          "iopub.status.busy": "2022-06-17T14:57:47.332574Z",
          "iopub.execute_input": "2022-06-17T14:57:47.333045Z",
          "iopub.status.idle": "2022-06-17T14:57:48.480789Z",
          "shell.execute_reply.started": "2022-06-17T14:57:47.333010Z",
          "shell.execute_reply": "2022-06-17T14:57:48.480004Z"
        },
        "trusted": true,
        "id": "7Y4qSHtSQgTI"
      },
      "execution_count": null,
      "outputs": []
    },
    {
      "cell_type": "code",
      "source": [
        "# Random Forest\n",
        "from sklearn.ensemble import RandomForestClassifier\n",
        "\n",
        "params_rf = {'max_depth': 16,\n",
        "             'min_samples_leaf': 1,\n",
        "             'min_samples_split': 2,\n",
        "             'n_estimators': 100,\n",
        "             'random_state': 12345}\n",
        "\n",
        "model_rf = RandomForestClassifier(**params_rf)\n",
        "model_rf, accuracy_rf, roc_auc_rf, coh_kap_rf, tt_rf = run_model(model_rf, X_train, y_train, X_test, y_test)"
      ],
      "metadata": {
        "execution": {
          "iopub.status.busy": "2022-06-17T14:11:54.512390Z",
          "iopub.execute_input": "2022-06-17T14:11:54.512929Z",
          "iopub.status.idle": "2022-06-17T14:12:29.112348Z",
          "shell.execute_reply.started": "2022-06-17T14:11:54.512886Z",
          "shell.execute_reply": "2022-06-17T14:12:29.111366Z"
        },
        "trusted": true,
        "id": "YW2owpwqQgTJ"
      },
      "execution_count": null,
      "outputs": []
    },
    {
      "cell_type": "code",
      "source": [
        "# Light GBM\n",
        "import lightgbm as lgb\n",
        "params_lgb = {'colsample_bytree' : 0.95,\n",
        "             'max_depth' : 16,\n",
        "             'min_split_gain' : 0.1,\n",
        "             'n_estimators' : 200,\n",
        "             'num_leaves': 50, \n",
        "             'reg_alpha': 1.2, \n",
        "             'reg_lambda': 1.2, \n",
        "             'subsample': 0.95, \n",
        "             'subsample_freq': 20}\n",
        "\n",
        "model_lgb = lgb.LGBMClassifier(**params_lgb)\n",
        "model_lgb, accuracy_lgb, roc_auc_lgb, coh_kap_lgb, tt_lgb = run_model(model_lgb, X_train, y_train, X_test, y_test)"
      ],
      "metadata": {
        "execution": {
          "iopub.status.busy": "2022-06-17T14:22:37.818994Z",
          "iopub.execute_input": "2022-06-17T14:22:37.819416Z",
          "iopub.status.idle": "2022-06-17T14:22:42.664279Z",
          "shell.execute_reply.started": "2022-06-17T14:22:37.819380Z",
          "shell.execute_reply": "2022-06-17T14:22:42.663215Z"
        },
        "trusted": true,
        "id": "54cFksxMQgTJ"
      },
      "execution_count": null,
      "outputs": []
    },
    {
      "cell_type": "code",
      "source": [
        "# Catboost\n",
        "!pip install catboost\n",
        "import catboost as cb\n",
        "params_cb ={'iterations': 50,\n",
        "            'max_depth': 16}\n",
        "\n",
        "model_cb = cb.CatBoostClassifier(**params_cb)\n",
        "model_cb, accuracy_cb, roc_auc_cb, coh_kap_cb, tt_cb = run_model(model_cb, X_train, y_train, X_test, y_test, verbose=False)"
      ],
      "metadata": {
        "execution": {
          "iopub.status.busy": "2022-06-17T14:23:24.459942Z",
          "iopub.execute_input": "2022-06-17T14:23:24.460356Z",
          "iopub.status.idle": "2022-06-17T14:27:22.575946Z",
          "shell.execute_reply.started": "2022-06-17T14:23:24.460323Z",
          "shell.execute_reply": "2022-06-17T14:27:22.575012Z"
        },
        "trusted": true,
        "id": "KupNdudEQgTJ"
      },
      "execution_count": null,
      "outputs": []
    },
    {
      "cell_type": "code",
      "source": [
        "# XGBoost\n",
        "import xgboost as xgb\n",
        "params_xgb ={'n_estimators': 500,\n",
        "            'max_depth': 16}\n",
        "\n",
        "model_xgb = xgb.XGBClassifier(**params_xgb)\n",
        "model_xgb, accuracy_xgb, roc_auc_xgb, coh_kap_xgb, tt_xgb = run_model(model_xgb, X_train, y_train, X_test, y_test)"
      ],
      "metadata": {
        "execution": {
          "iopub.status.busy": "2022-06-17T14:27:22.577526Z",
          "iopub.execute_input": "2022-06-17T14:27:22.578468Z",
          "iopub.status.idle": "2022-06-17T14:30:07.213514Z",
          "shell.execute_reply.started": "2022-06-17T14:27:22.578423Z",
          "shell.execute_reply": "2022-06-17T14:30:07.212501Z"
        },
        "trusted": true,
        "id": "-Znz86M4QgTK"
      },
      "execution_count": null,
      "outputs": []
    },
    {
      "cell_type": "code",
      "source": [
        "# Neural Network\n",
        "from sklearn.neural_network import MLPClassifier\n",
        "\n",
        "params_nn = {'hidden_layer_sizes': (30,30,30),\n",
        "             'activation': 'logistic',\n",
        "             'solver': 'lbfgs',\n",
        "             'max_iter': 500}\n",
        "\n",
        "model_nn = MLPClassifier(**params_nn)\n",
        "model_nn, accuracy_nn, roc_auc_nn, coh_kap_nn, tt_nn = run_model(model_nn, X_train, y_train, X_test, y_test)"
      ],
      "metadata": {
        "execution": {
          "iopub.status.busy": "2022-06-17T14:30:40.950693Z",
          "iopub.execute_input": "2022-06-17T14:30:40.951089Z",
          "iopub.status.idle": "2022-06-17T14:35:59.165578Z",
          "shell.execute_reply.started": "2022-06-17T14:30:40.951058Z",
          "shell.execute_reply": "2022-06-17T14:35:59.164499Z"
        },
        "trusted": true,
        "id": "ktsjBJnyQgTK"
      },
      "execution_count": null,
      "outputs": []
    },
    {
      "cell_type": "code",
      "source": [
        "accuracy_scores = [accuracy_lr, accuracy_dt, accuracy_nn, accuracy_rf, accuracy_lgb, accuracy_cb, accuracy_xgb]\n",
        "roc_auc_scores = [roc_auc_lr, rou_auc_dt, roc_auc_nn, roc_auc_rf, roc_auc_lgb, roc_auc_cb, roc_auc_xgb]\n",
        "coh_kap_scores = [coh_kap_lr, coh_kap_dt, coh_kap_nn, coh_kap_rf, coh_kap_lgb, coh_kap_cb, coh_kap_xgb]\n",
        "tt = [tt_lr, tt_dt, tt_nn, tt_rf, tt_lgb, tt_cb, tt_xgb]\n",
        "\n",
        "model_data = {'Model': ['Logistic Regression','Decision Tree','Neural Network','Random Forest','LightGBM','Catboost','XGBoost'],\n",
        "              'Accuracy': accuracy_scores,\n",
        "              'ROC_AUC': roc_auc_scores,\n",
        "              'Cohen_Kappa': coh_kap_scores,\n",
        "              'Time taken': tt}\n",
        "data = pd.DataFrame(model_data)\n",
        "\n",
        "fig, ax1 = plt.subplots(figsize=(12,10))\n",
        "ax1.set_title('Model Comparison: Accuracy and Time taken for execution', fontsize=13)\n",
        "color = 'tab:green'\n",
        "ax1.set_xlabel('Model', fontsize=13)\n",
        "ax1.set_ylabel('Time taken', fontsize=13, color=color)\n",
        "ax2 = sns.barplot(x='Model', y='Time taken', data = data, palette='summer')\n",
        "ax1.tick_params(axis='y')\n",
        "ax2 = ax1.twinx()\n",
        "color = 'tab:red'\n",
        "ax2.set_ylabel('Accuracy', fontsize=13, color=color)\n",
        "ax2 = sns.lineplot(x='Model', y='Accuracy', data = data, sort=False, color=color)\n",
        "ax2.tick_params(axis='y', color=color)"
      ],
      "metadata": {
        "execution": {
          "iopub.status.busy": "2022-06-17T14:58:11.804036Z",
          "iopub.execute_input": "2022-06-17T14:58:11.804470Z",
          "iopub.status.idle": "2022-06-17T14:58:12.181453Z",
          "shell.execute_reply.started": "2022-06-17T14:58:11.804438Z",
          "shell.execute_reply": "2022-06-17T14:58:12.180484Z"
        },
        "trusted": true,
        "id": "vDifgbLHQgTK"
      },
      "execution_count": null,
      "outputs": []
    },
    {
      "cell_type": "code",
      "source": [
        ""
      ],
      "metadata": {
        "id": "lpk7infnQgTL"
      },
      "execution_count": null,
      "outputs": []
    }
  ]
}